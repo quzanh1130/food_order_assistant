{
 "cells": [
  {
   "cell_type": "markdown",
   "id": "6e688170",
   "metadata": {},
   "source": [
    "## Using Minisearch"
   ]
  },
  {
   "cell_type": "code",
   "execution_count": 1,
   "id": "4c1c3e80-490b-41de-8174-15d7b88042d7",
   "metadata": {},
   "outputs": [
    {
     "name": "stdout",
     "output_type": "stream",
     "text": [
      "--2024-09-25 05:29:14--  https://raw.githubusercontent.com/alexeygrigorev/minsearch/main/minsearch.py\n",
      "Resolving raw.githubusercontent.com (raw.githubusercontent.com)... 185.199.111.133, 185.199.110.133, 185.199.108.133, ...\n",
      "Connecting to raw.githubusercontent.com (raw.githubusercontent.com)|185.199.111.133|:443... connected.\n",
      "HTTP request sent, awaiting response... 200 OK\n",
      "Length: 3832 (3,7K) [text/plain]\n",
      "Saving to: ‘minsearch.py’\n",
      "\n",
      "minsearch.py        100%[===================>]   3,74K  --.-KB/s    in 0s      \n",
      "\n",
      "2024-09-25 05:29:15 (40,7 MB/s) - ‘minsearch.py’ saved [3832/3832]\n",
      "\n"
     ]
    }
   ],
   "source": [
    "!wget https://raw.githubusercontent.com/alexeygrigorev/minsearch/main/minsearch.py"
   ]
  },
  {
   "cell_type": "code",
   "execution_count": 1,
   "id": "87b8d901-35e3-4ea7-b814-9a49b3abd5c0",
   "metadata": {},
   "outputs": [],
   "source": [
    "import pandas as pd"
   ]
  },
  {
   "cell_type": "code",
   "execution_count": 7,
   "id": "679fb25b-725b-48b4-9362-4bd38df15588",
   "metadata": {},
   "outputs": [],
   "source": [
    "df = pd.read_csv('../data/data.csv')"
   ]
  },
  {
   "cell_type": "code",
   "execution_count": 8,
   "id": "febc66a1-afbb-4122-8280-a78ae866c587",
   "metadata": {},
   "outputs": [
    {
     "data": {
      "text/plain": [
       "Index(['id', 'name', 'cuisine', 'type', 'ingredients', 'serving', 'price',\n",
       "       'calories'],\n",
       "      dtype='object')"
      ]
     },
     "execution_count": 8,
     "metadata": {},
     "output_type": "execute_result"
    }
   ],
   "source": [
    "df.columns"
   ]
  },
  {
   "cell_type": "code",
   "execution_count": 9,
   "id": "b3c8d0e0-5a75-4984-a6b0-31fa45a7bf1d",
   "metadata": {},
   "outputs": [
    {
     "data": {
      "text/plain": [
       "id               int64\n",
       "name            object\n",
       "cuisine         object\n",
       "type            object\n",
       "ingredients     object\n",
       "serving         object\n",
       "price          float64\n",
       "calories         int64\n",
       "dtype: object"
      ]
     },
     "execution_count": 9,
     "metadata": {},
     "output_type": "execute_result"
    }
   ],
   "source": [
    "df.dtypes"
   ]
  },
  {
   "cell_type": "code",
   "execution_count": 10,
   "id": "0ab77037-f990-48a9-99b8-49a84246b836",
   "metadata": {},
   "outputs": [],
   "source": [
    "# Convert 'price' and 'calories' to string\n",
    "df['price'] = df['price'].astype(str)\n",
    "df['calories'] = df['calories'].astype(str)"
   ]
  },
  {
   "cell_type": "code",
   "execution_count": 11,
   "id": "4231a5a3-9acc-45c8-a214-03c39cef50ca",
   "metadata": {},
   "outputs": [],
   "source": [
    "documents = df.to_dict(orient='records')"
   ]
  },
  {
   "cell_type": "code",
   "execution_count": 12,
   "id": "2956d94a-4e75-4723-bb0e-e509dad067d9",
   "metadata": {},
   "outputs": [
    {
     "data": {
      "text/plain": [
       "[{'id': 0,\n",
       "  'name': 'Margherita Pizza',\n",
       "  'cuisine': 'Italian',\n",
       "  'type': 'Main Dish',\n",
       "  'ingredients': 'Dough, Tomato Sauce, Mozzarella, Basil',\n",
       "  'serving': '1 slice',\n",
       "  'price': '12.0',\n",
       "  'calories': '250'},\n",
       " {'id': 1,\n",
       "  'name': 'Chicken Caesar Salad',\n",
       "  'cuisine': 'American',\n",
       "  'type': 'Salad',\n",
       "  'ingredients': 'Romaine Lettuce, Grilled Chicken, Dressing',\n",
       "  'serving': '1 bowl',\n",
       "  'price': '10.5',\n",
       "  'calories': '400'},\n",
       " {'id': 2,\n",
       "  'name': 'Pad Thai',\n",
       "  'cuisine': 'Thai',\n",
       "  'type': 'Main Dish',\n",
       "  'ingredients': 'Rice Noodles, Shrimp, Peanuts, Bean Sprouts',\n",
       "  'serving': '1 plate',\n",
       "  'price': '14.0',\n",
       "  'calories': '600'},\n",
       " {'id': 3,\n",
       "  'name': 'Sushi Roll (California)',\n",
       "  'cuisine': 'Japanese',\n",
       "  'type': 'Appetizer',\n",
       "  'ingredients': 'Sushi Rice, Nori, Crab, Avocado, Cucumber',\n",
       "  'serving': '8 pieces',\n",
       "  'price': '9.0',\n",
       "  'calories': '300'},\n",
       " {'id': 4,\n",
       "  'name': 'Cheeseburger',\n",
       "  'cuisine': 'American',\n",
       "  'type': 'Main Dish',\n",
       "  'ingredients': 'Ground Beef, Cheddar, Lettuce, Tomato, Bun',\n",
       "  'serving': '1 burger',\n",
       "  'price': '11.0',\n",
       "  'calories': '450'},\n",
       " {'id': 5,\n",
       "  'name': 'Spaghetti Carbonara',\n",
       "  'cuisine': 'Italian',\n",
       "  'type': 'Main Dish',\n",
       "  'ingredients': 'Spaghetti, Eggs, Parmesan, Bacon',\n",
       "  'serving': '1 plate',\n",
       "  'price': '13.5',\n",
       "  'calories': '550'},\n",
       " {'id': 6,\n",
       "  'name': 'Beef Tacos',\n",
       "  'cuisine': 'Mexican',\n",
       "  'type': 'Main Dish',\n",
       "  'ingredients': 'Beef, Tortilla, Salsa, Cheese',\n",
       "  'serving': '3 tacos',\n",
       "  'price': '8.0',\n",
       "  'calories': '400'},\n",
       " {'id': 7,\n",
       "  'name': 'Greek Salad',\n",
       "  'cuisine': 'Mediterranean',\n",
       "  'type': 'Salad',\n",
       "  'ingredients': 'Cucumber, Feta, Olives, Red Onion',\n",
       "  'serving': '1 bowl',\n",
       "  'price': '7.0',\n",
       "  'calories': '320'},\n",
       " {'id': 8,\n",
       "  'name': 'BBQ Chicken Pizza',\n",
       "  'cuisine': 'American',\n",
       "  'type': 'Main Dish',\n",
       "  'ingredients': 'Dough, BBQ Sauce, Chicken, Cheese',\n",
       "  'serving': '1 slice',\n",
       "  'price': '13.0',\n",
       "  'calories': '300'},\n",
       " {'id': 9,\n",
       "  'name': 'Egg Fried Rice',\n",
       "  'cuisine': 'Chinese',\n",
       "  'type': 'Main Dish',\n",
       "  'ingredients': 'Rice, Egg, Soy Sauce, Peas',\n",
       "  'serving': '1 plate',\n",
       "  'price': '9.5',\n",
       "  'calories': '450'},\n",
       " {'id': 10,\n",
       "  'name': 'French Onion Soup',\n",
       "  'cuisine': 'French',\n",
       "  'type': 'Soup',\n",
       "  'ingredients': 'Onions, Beef Broth, Gruyère Cheese',\n",
       "  'serving': '1 bowl',\n",
       "  'price': '7.5',\n",
       "  'calories': '200'},\n",
       " {'id': 11,\n",
       "  'name': 'Butter Chicken',\n",
       "  'cuisine': 'Indian',\n",
       "  'type': 'Main Dish',\n",
       "  'ingredients': 'Chicken, Cream, Tomato Sauce, Spices',\n",
       "  'serving': '1 plate',\n",
       "  'price': '15.0',\n",
       "  'calories': '550'},\n",
       " {'id': 12,\n",
       "  'name': 'Fish and Chips',\n",
       "  'cuisine': 'British',\n",
       "  'type': 'Main Dish',\n",
       "  'ingredients': 'Cod, Potatoes, Tartar Sauce',\n",
       "  'serving': '1 serving',\n",
       "  'price': '14.0',\n",
       "  'calories': '600'},\n",
       " {'id': 13,\n",
       "  'name': 'Veggie Burger',\n",
       "  'cuisine': 'American',\n",
       "  'type': 'Main Dish',\n",
       "  'ingredients': 'Veggie Patty, Lettuce, Tomato, Bun',\n",
       "  'serving': '1 burger',\n",
       "  'price': '9.5',\n",
       "  'calories': '350'},\n",
       " {'id': 14,\n",
       "  'name': 'Chicken Biryani',\n",
       "  'cuisine': 'Indian',\n",
       "  'type': 'Main Dish',\n",
       "  'ingredients': 'Rice, Chicken, Spices',\n",
       "  'serving': '1 plate',\n",
       "  'price': '12.5',\n",
       "  'calories': '700'},\n",
       " {'id': 15,\n",
       "  'name': 'Falafel Wrap',\n",
       "  'cuisine': 'Middle Eastern',\n",
       "  'type': 'Main Dish',\n",
       "  'ingredients': 'Falafel, Pita, Hummus, Lettuce, Tomato',\n",
       "  'serving': '1 wrap',\n",
       "  'price': '8.5',\n",
       "  'calories': '350'},\n",
       " {'id': 16,\n",
       "  'name': 'Shrimp Scampi',\n",
       "  'cuisine': 'Italian',\n",
       "  'type': 'Main Dish',\n",
       "  'ingredients': 'Shrimp, Garlic, Butter, Pasta',\n",
       "  'serving': '1 plate',\n",
       "  'price': '16.0',\n",
       "  'calories': '600'},\n",
       " {'id': 17,\n",
       "  'name': 'Lobster Roll',\n",
       "  'cuisine': 'American',\n",
       "  'type': 'Sandwich',\n",
       "  'ingredients': 'Lobster, Butter, Hot Dog Bun',\n",
       "  'serving': '1 roll',\n",
       "  'price': '18.0',\n",
       "  'calories': '450'},\n",
       " {'id': 18,\n",
       "  'name': 'Chocolate Lava Cake',\n",
       "  'cuisine': 'Dessert',\n",
       "  'type': 'Dessert',\n",
       "  'ingredients': 'Chocolate, Butter, Sugar, Flour, Eggs',\n",
       "  'serving': '1 cake',\n",
       "  'price': '7.0',\n",
       "  'calories': '500'},\n",
       " {'id': 19,\n",
       "  'name': 'Chicken Alfredo Pasta',\n",
       "  'cuisine': 'Italian',\n",
       "  'type': 'Main Dish',\n",
       "  'ingredients': 'Pasta, Chicken, Cream Sauce',\n",
       "  'serving': '1 plate',\n",
       "  'price': '12.0',\n",
       "  'calories': '700'},\n",
       " {'id': 20,\n",
       "  'name': 'Steak Frites',\n",
       "  'cuisine': 'French',\n",
       "  'type': 'Main Dish',\n",
       "  'ingredients': 'Steak, French Fries',\n",
       "  'serving': '1 serving',\n",
       "  'price': '18.0',\n",
       "  'calories': '800'},\n",
       " {'id': 21,\n",
       "  'name': 'Vegetable Stir-Fry',\n",
       "  'cuisine': 'Chinese',\n",
       "  'type': 'Main Dish',\n",
       "  'ingredients': 'Mixed Vegetables, Soy Sauce',\n",
       "  'serving': '1 plate',\n",
       "  'price': '9.0',\n",
       "  'calories': '350'},\n",
       " {'id': 22,\n",
       "  'name': 'Tom Yum Soup',\n",
       "  'cuisine': 'Thai',\n",
       "  'type': 'Soup',\n",
       "  'ingredients': 'Shrimp, Lemongrass, Chili',\n",
       "  'serving': '1 bowl',\n",
       "  'price': '11.0',\n",
       "  'calories': '200'},\n",
       " {'id': 23,\n",
       "  'name': 'Avocado Toast',\n",
       "  'cuisine': 'American',\n",
       "  'type': 'Breakfast',\n",
       "  'ingredients': 'Avocado, Toast',\n",
       "  'serving': '1 slice',\n",
       "  'price': '7.5',\n",
       "  'calories': '250'},\n",
       " {'id': 24,\n",
       "  'name': 'Ramen Noodles',\n",
       "  'cuisine': 'Japanese',\n",
       "  'type': 'Main Dish',\n",
       "  'ingredients': 'Noodles, Pork, Broth',\n",
       "  'serving': '1 bowl',\n",
       "  'price': '12.0',\n",
       "  'calories': '550'},\n",
       " {'id': 25,\n",
       "  'name': 'Pulled Pork Sandwich',\n",
       "  'cuisine': 'American',\n",
       "  'type': 'Sandwich',\n",
       "  'ingredients': 'Pulled Pork, BBQ Sauce, Bun',\n",
       "  'serving': '1 sandwich',\n",
       "  'price': '10.0',\n",
       "  'calories': '600'},\n",
       " {'id': 26,\n",
       "  'name': 'Miso Soup',\n",
       "  'cuisine': 'Japanese',\n",
       "  'type': 'Soup',\n",
       "  'ingredients': 'Miso Paste, Tofu, Seaweed',\n",
       "  'serving': '1 bowl',\n",
       "  'price': '5.0',\n",
       "  'calories': '100'},\n",
       " {'id': 27,\n",
       "  'name': 'Pho',\n",
       "  'cuisine': 'Vietnamese',\n",
       "  'type': 'Soup',\n",
       "  'ingredients': 'Rice Noodles, Beef, Broth',\n",
       "  'serving': '1 bowl',\n",
       "  'price': '12.0',\n",
       "  'calories': '450'},\n",
       " {'id': 28,\n",
       "  'name': 'Eggplant Parmesan',\n",
       "  'cuisine': 'Italian',\n",
       "  'type': 'Main Dish',\n",
       "  'ingredients': 'Eggplant, Tomato Sauce, Mozzarella',\n",
       "  'serving': '1 plate',\n",
       "  'price': '11.5',\n",
       "  'calories': '500'},\n",
       " {'id': 29,\n",
       "  'name': 'Peking Duck',\n",
       "  'cuisine': 'Chinese',\n",
       "  'type': 'Main Dish',\n",
       "  'ingredients': 'Duck, Pancakes, Hoisin Sauce',\n",
       "  'serving': '1 plate',\n",
       "  'price': '25.0',\n",
       "  'calories': '850'},\n",
       " {'id': 30,\n",
       "  'name': 'Buffalo Wings',\n",
       "  'cuisine': 'American',\n",
       "  'type': 'Appetizer',\n",
       "  'ingredients': 'Chicken Wings, Buffalo Sauce',\n",
       "  'serving': '6 pieces',\n",
       "  'price': '9.0',\n",
       "  'calories': '600'},\n",
       " {'id': 31,\n",
       "  'name': 'Spring Rolls',\n",
       "  'cuisine': 'Vietnamese',\n",
       "  'type': 'Appetizer',\n",
       "  'ingredients': 'Rice Paper, Shrimp, Vegetables',\n",
       "  'serving': '4 rolls',\n",
       "  'price': '7.5',\n",
       "  'calories': '250'},\n",
       " {'id': 32,\n",
       "  'name': 'Grilled Salmon',\n",
       "  'cuisine': 'American',\n",
       "  'type': 'Main Dish',\n",
       "  'ingredients': 'Salmon, Lemon, Herbs',\n",
       "  'serving': '1 fillet',\n",
       "  'price': '16.0',\n",
       "  'calories': '400'},\n",
       " {'id': 33,\n",
       "  'name': 'Vegetarian Lasagna',\n",
       "  'cuisine': 'Italian',\n",
       "  'type': 'Main Dish',\n",
       "  'ingredients': 'Lasagna Noodles, Ricotta, Spinach, Tomato Sauce',\n",
       "  'serving': '1 plate',\n",
       "  'price': '13.0',\n",
       "  'calories': '550'},\n",
       " {'id': 34,\n",
       "  'name': 'Chicken Quesadilla',\n",
       "  'cuisine': 'Mexican',\n",
       "  'type': 'Main Dish',\n",
       "  'ingredients': 'Chicken, Cheese, Tortilla',\n",
       "  'serving': '1 serving',\n",
       "  'price': '8.5',\n",
       "  'calories': '450'},\n",
       " {'id': 35,\n",
       "  'name': 'Tuna Sashimi',\n",
       "  'cuisine': 'Japanese',\n",
       "  'type': 'Appetizer',\n",
       "  'ingredients': 'Tuna, Soy Sauce',\n",
       "  'serving': '6 pieces',\n",
       "  'price': '14.0',\n",
       "  'calories': '300'},\n",
       " {'id': 36,\n",
       "  'name': 'Shakshuka',\n",
       "  'cuisine': 'Middle Eastern',\n",
       "  'type': 'Breakfast',\n",
       "  'ingredients': 'Eggs, Tomato Sauce, Peppers',\n",
       "  'serving': '1 pan',\n",
       "  'price': '10.0',\n",
       "  'calories': '350'},\n",
       " {'id': 37,\n",
       "  'name': 'Burrito',\n",
       "  'cuisine': 'Mexican',\n",
       "  'type': 'Main Dish',\n",
       "  'ingredients': 'Rice, Beans, Chicken, Salsa',\n",
       "  'serving': '1 burrito',\n",
       "  'price': '8.5',\n",
       "  'calories': '700'},\n",
       " {'id': 38,\n",
       "  'name': 'Dim Sum',\n",
       "  'cuisine': 'Chinese',\n",
       "  'type': 'Appetizer',\n",
       "  'ingredients': 'Dumplings, Pork, Shrimp',\n",
       "  'serving': '6 pieces',\n",
       "  'price': '12.0',\n",
       "  'calories': '300'},\n",
       " {'id': 39,\n",
       "  'name': 'Cauliflower Buffalo Bites',\n",
       "  'cuisine': 'American',\n",
       "  'type': 'Appetizer',\n",
       "  'ingredients': 'Cauliflower, Buffalo Sauce',\n",
       "  'serving': '1 plate',\n",
       "  'price': '7.5',\n",
       "  'calories': '250'},\n",
       " {'id': 40,\n",
       "  'name': 'Tiramisu',\n",
       "  'cuisine': 'Italian',\n",
       "  'type': 'Dessert',\n",
       "  'ingredients': 'Mascarpone, Espresso, Ladyfingers',\n",
       "  'serving': '1 slice',\n",
       "  'price': '6.5',\n",
       "  'calories': '450'},\n",
       " {'id': 41,\n",
       "  'name': 'Kimchi Fried Rice',\n",
       "  'cuisine': 'Korean',\n",
       "  'type': 'Main Dish',\n",
       "  'ingredients': 'Rice, Kimchi, Egg',\n",
       "  'serving': '1 plate',\n",
       "  'price': '9.0',\n",
       "  'calories': '500'},\n",
       " {'id': 42,\n",
       "  'name': 'Clam Chowder',\n",
       "  'cuisine': 'American',\n",
       "  'type': 'Soup',\n",
       "  'ingredients': 'Clams, Potatoes, Cream',\n",
       "  'serving': '1 bowl',\n",
       "  'price': '8.0',\n",
       "  'calories': '350'},\n",
       " {'id': 43,\n",
       "  'name': 'Gyro',\n",
       "  'cuisine': 'Greek',\n",
       "  'type': 'Sandwich',\n",
       "  'ingredients': 'Lamb, Tzatziki, Pita',\n",
       "  'serving': '1 serving',\n",
       "  'price': '10.5',\n",
       "  'calories': '600'},\n",
       " {'id': 44,\n",
       "  'name': 'Baklava',\n",
       "  'cuisine': 'Mediterranean',\n",
       "  'type': 'Dessert',\n",
       "  'ingredients': 'Phyllo Dough, Honey, Walnuts',\n",
       "  'serving': '1 slice',\n",
       "  'price': '5.0',\n",
       "  'calories': '300'},\n",
       " {'id': 45,\n",
       "  'name': 'Spaghetti Bolognese',\n",
       "  'cuisine': 'Italian',\n",
       "  'type': 'Main Dish',\n",
       "  'ingredients': 'Spaghetti, Ground Beef, Tomato Sauce',\n",
       "  'serving': '1 plate',\n",
       "  'price': '13.0',\n",
       "  'calories': '550'},\n",
       " {'id': 46,\n",
       "  'name': 'Chicken Shawarma',\n",
       "  'cuisine': 'Middle Eastern',\n",
       "  'type': 'Main Dish',\n",
       "  'ingredients': 'Chicken, Pita, Garlic Sauce',\n",
       "  'serving': '1 wrap',\n",
       "  'price': '9.0',\n",
       "  'calories': '450'},\n",
       " {'id': 47,\n",
       "  'name': 'Mac and Cheese',\n",
       "  'cuisine': 'American',\n",
       "  'type': 'Side Dish',\n",
       "  'ingredients': 'Macaroni, Cheese, Butter',\n",
       "  'serving': '1 bowl',\n",
       "  'price': '6.0',\n",
       "  'calories': '400'},\n",
       " {'id': 48,\n",
       "  'name': 'Beef Stroganoff',\n",
       "  'cuisine': 'Russian',\n",
       "  'type': 'Main Dish',\n",
       "  'ingredients': 'Beef, Mushrooms, Sour Cream, Noodles',\n",
       "  'serving': '1 plate',\n",
       "  'price': '14.0',\n",
       "  'calories': '600'},\n",
       " {'id': 49,\n",
       "  'name': 'Cheese Fondue',\n",
       "  'cuisine': 'Swiss',\n",
       "  'type': 'Appetizer',\n",
       "  'ingredients': 'Cheese, Bread',\n",
       "  'serving': '1 pot',\n",
       "  'price': '12.0',\n",
       "  'calories': '500'},\n",
       " {'id': 50,\n",
       "  'name': 'Chicken Parmesan',\n",
       "  'cuisine': 'Italian',\n",
       "  'type': 'Main Dish',\n",
       "  'ingredients': 'Chicken, Tomato Sauce, Mozzarella',\n",
       "  'serving': '1 plate',\n",
       "  'price': '14.0',\n",
       "  'calories': '700'},\n",
       " {'id': 51,\n",
       "  'name': 'Margarita',\n",
       "  'cuisine': 'Mexican',\n",
       "  'type': 'Beverage',\n",
       "  'ingredients': 'Tequila, Lime Juice, Triple Sec',\n",
       "  'serving': '1 glass',\n",
       "  'price': '8.0',\n",
       "  'calories': '200'},\n",
       " {'id': 52,\n",
       "  'name': 'Chocolate Chip Cookies',\n",
       "  'cuisine': 'Dessert',\n",
       "  'type': 'Dessert',\n",
       "  'ingredients': 'Flour, Butter, Chocolate Chips',\n",
       "  'serving': '2 cookies',\n",
       "  'price': '4.0',\n",
       "  'calories': '300'},\n",
       " {'id': 53,\n",
       "  'name': 'Gnocchi',\n",
       "  'cuisine': 'Italian',\n",
       "  'type': 'Main Dish',\n",
       "  'ingredients': 'Potatoes, Flour, Parmesan',\n",
       "  'serving': '1 plate',\n",
       "  'price': '13.0',\n",
       "  'calories': '500'},\n",
       " {'id': 54,\n",
       "  'name': 'Falafel Salad',\n",
       "  'cuisine': 'Middle Eastern',\n",
       "  'type': 'Salad',\n",
       "  'ingredients': 'Falafel, Lettuce, Tomato, Hummus',\n",
       "  'serving': '1 bowl',\n",
       "  'price': '8.5',\n",
       "  'calories': '400'},\n",
       " {'id': 55,\n",
       "  'name': 'Pork Ribs',\n",
       "  'cuisine': 'American',\n",
       "  'type': 'Main Dish',\n",
       "  'ingredients': 'Pork Ribs, BBQ Sauce',\n",
       "  'serving': '1 serving',\n",
       "  'price': '16.0',\n",
       "  'calories': '700'},\n",
       " {'id': 56,\n",
       "  'name': 'Fish Tacos',\n",
       "  'cuisine': 'Mexican',\n",
       "  'type': 'Main Dish',\n",
       "  'ingredients': 'Fish, Tortilla, Salsa, Cabbage',\n",
       "  'serving': '3 tacos',\n",
       "  'price': '9.0',\n",
       "  'calories': '350'},\n",
       " {'id': 57,\n",
       "  'name': 'Crepes',\n",
       "  'cuisine': 'French',\n",
       "  'type': 'Dessert',\n",
       "  'ingredients': 'Flour, Eggs, Milk, Sugar',\n",
       "  'serving': '1 crepe',\n",
       "  'price': '6.5',\n",
       "  'calories': '250'},\n",
       " {'id': 58,\n",
       "  'name': 'Moussaka',\n",
       "  'cuisine': 'Greek',\n",
       "  'type': 'Main Dish',\n",
       "  'ingredients': 'Eggplant, Ground Beef, Bechamel',\n",
       "  'serving': '1 plate',\n",
       "  'price': '13.0',\n",
       "  'calories': '600'},\n",
       " {'id': 59,\n",
       "  'name': 'Chicken Pad See Ew',\n",
       "  'cuisine': 'Thai',\n",
       "  'type': 'Main Dish',\n",
       "  'ingredients': 'Rice Noodles, Chicken, Soy Sauce, Vegetables',\n",
       "  'serving': '1 plate',\n",
       "  'price': '13.5',\n",
       "  'calories': '600'},\n",
       " {'id': 60,\n",
       "  'name': 'French Toast',\n",
       "  'cuisine': 'American',\n",
       "  'type': 'Breakfast',\n",
       "  'ingredients': 'Bread, Eggs, Milk, Cinnamon',\n",
       "  'serving': '1 slice',\n",
       "  'price': '7.0',\n",
       "  'calories': '300'},\n",
       " {'id': 61,\n",
       "  'name': 'Beef Wellington',\n",
       "  'cuisine': 'British',\n",
       "  'type': 'Main Dish',\n",
       "  'ingredients': 'Beef, Puff Pastry, Mushrooms',\n",
       "  'serving': '1 serving',\n",
       "  'price': '25.0',\n",
       "  'calories': '800'},\n",
       " {'id': 62,\n",
       "  'name': 'Vegetable Curry',\n",
       "  'cuisine': 'Indian',\n",
       "  'type': 'Main Dish',\n",
       "  'ingredients': 'Mixed Vegetables, Curry Sauce, Rice',\n",
       "  'serving': '1 plate',\n",
       "  'price': '12.0',\n",
       "  'calories': '500'},\n",
       " {'id': 63,\n",
       "  'name': 'Chicken and Waffles',\n",
       "  'cuisine': 'American',\n",
       "  'type': 'Main Dish',\n",
       "  'ingredients': 'Fried Chicken, Waffles, Syrup',\n",
       "  'serving': '1 serving',\n",
       "  'price': '15.0',\n",
       "  'calories': '750'},\n",
       " {'id': 64,\n",
       "  'name': 'Huevos Rancheros',\n",
       "  'cuisine': 'Mexican',\n",
       "  'type': 'Breakfast',\n",
       "  'ingredients': 'Eggs, Tortillas, Salsa',\n",
       "  'serving': '1 serving',\n",
       "  'price': '9.0',\n",
       "  'calories': '400'},\n",
       " {'id': 65,\n",
       "  'name': 'Spinach and Ricotta Ravioli',\n",
       "  'cuisine': 'Italian',\n",
       "  'type': 'Main Dish',\n",
       "  'ingredients': 'Ravioli, Spinach, Ricotta Cheese',\n",
       "  'serving': '1 plate',\n",
       "  'price': '14.0',\n",
       "  'calories': '550'},\n",
       " {'id': 66,\n",
       "  'name': 'Sweet and Sour Chicken',\n",
       "  'cuisine': 'Chinese',\n",
       "  'type': 'Main Dish',\n",
       "  'ingredients': 'Chicken, Bell Peppers, Pineapple',\n",
       "  'serving': '1 plate',\n",
       "  'price': '11.5',\n",
       "  'calories': '600'},\n",
       " {'id': 67,\n",
       "  'name': 'Penne Arrabbiata',\n",
       "  'cuisine': 'Italian',\n",
       "  'type': 'Main Dish',\n",
       "  'ingredients': 'Penne, Tomato Sauce, Red Chili',\n",
       "  'serving': '1 plate',\n",
       "  'price': '12.0',\n",
       "  'calories': '500'},\n",
       " {'id': 68,\n",
       "  'name': 'Fettuccine Alfredo',\n",
       "  'cuisine': 'Italian',\n",
       "  'type': 'Main Dish',\n",
       "  'ingredients': 'Fettuccine, Cream, Parmesan',\n",
       "  'serving': '1 plate',\n",
       "  'price': '13.0',\n",
       "  'calories': '700'},\n",
       " {'id': 69,\n",
       "  'name': 'Tofu Stir-Fry',\n",
       "  'cuisine': 'Chinese',\n",
       "  'type': 'Main Dish',\n",
       "  'ingredients': 'Tofu, Vegetables, Soy Sauce',\n",
       "  'serving': '1 plate',\n",
       "  'price': '10.0',\n",
       "  'calories': '350'},\n",
       " {'id': 70,\n",
       "  'name': 'Tandoori Chicken',\n",
       "  'cuisine': 'Indian',\n",
       "  'type': 'Main Dish',\n",
       "  'ingredients': 'Chicken, Yogurt, Spices',\n",
       "  'serving': '1 serving',\n",
       "  'price': '15.0',\n",
       "  'calories': '550'},\n",
       " {'id': 71,\n",
       "  'name': 'Churros',\n",
       "  'cuisine': 'Mexican',\n",
       "  'type': 'Dessert',\n",
       "  'ingredients': 'Flour, Cinnamon, Sugar',\n",
       "  'serving': '3 pieces',\n",
       "  'price': '6.0',\n",
       "  'calories': '300'},\n",
       " {'id': 72,\n",
       "  'name': 'Bruschetta',\n",
       "  'cuisine': 'Italian',\n",
       "  'type': 'Appetizer',\n",
       "  'ingredients': 'Bread, Tomatoes, Basil, Olive Oil',\n",
       "  'serving': '1 serving',\n",
       "  'price': '7.0',\n",
       "  'calories': '250'},\n",
       " {'id': 73,\n",
       "  'name': 'Lamb Kofta',\n",
       "  'cuisine': 'Middle Eastern',\n",
       "  'type': 'Main Dish',\n",
       "  'ingredients': 'Ground Lamb, Spices, Pita',\n",
       "  'serving': '1 serving',\n",
       "  'price': '12.5',\n",
       "  'calories': '550'},\n",
       " {'id': 74,\n",
       "  'name': 'Pumpkin Pie',\n",
       "  'cuisine': 'American',\n",
       "  'type': 'Dessert',\n",
       "  'ingredients': 'Pumpkin, Sugar, Pie Crust',\n",
       "  'serving': '1 slice',\n",
       "  'price': '5.5',\n",
       "  'calories': '300'},\n",
       " {'id': 75,\n",
       "  'name': 'Crab Cakes',\n",
       "  'cuisine': 'American',\n",
       "  'type': 'Appetizer',\n",
       "  'ingredients': 'Crab, Breadcrumbs, Spices',\n",
       "  'serving': '2 cakes',\n",
       "  'price': '13.0',\n",
       "  'calories': '400'},\n",
       " {'id': 76,\n",
       "  'name': 'Beef Pho',\n",
       "  'cuisine': 'Vietnamese',\n",
       "  'type': 'Soup',\n",
       "  'ingredients': 'Rice Noodles, Beef, Herbs',\n",
       "  'serving': '1 bowl',\n",
       "  'price': '12.0',\n",
       "  'calories': '450'},\n",
       " {'id': 77,\n",
       "  'name': 'Egg Drop Soup',\n",
       "  'cuisine': 'Chinese',\n",
       "  'type': 'Soup',\n",
       "  'ingredients': 'Egg, Chicken Broth, Cornstarch',\n",
       "  'serving': '1 bowl',\n",
       "  'price': '6.0',\n",
       "  'calories': '150'},\n",
       " {'id': 78,\n",
       "  'name': 'Caprese Salad',\n",
       "  'cuisine': 'Italian',\n",
       "  'type': 'Salad',\n",
       "  'ingredients': 'Tomatoes, Mozzarella, Basil, Olive Oil',\n",
       "  'serving': '1 plate',\n",
       "  'price': '8.5',\n",
       "  'calories': '300'},\n",
       " {'id': 79,\n",
       "  'name': 'French Crepe with Nutella',\n",
       "  'cuisine': 'French',\n",
       "  'type': 'Dessert',\n",
       "  'ingredients': 'Crepe, Nutella',\n",
       "  'serving': '1 crepe',\n",
       "  'price': '6.0',\n",
       "  'calories': '350'},\n",
       " {'id': 80,\n",
       "  'name': 'Seafood Paella',\n",
       "  'cuisine': 'Spanish',\n",
       "  'type': 'Main Dish',\n",
       "  'ingredients': 'Rice, Shrimp, Mussels, Saffron',\n",
       "  'serving': '1 plate',\n",
       "  'price': '18.0',\n",
       "  'calories': '700'},\n",
       " {'id': 81,\n",
       "  'name': 'Lamb Curry',\n",
       "  'cuisine': 'Indian',\n",
       "  'type': 'Main Dish',\n",
       "  'ingredients': 'Lamb, Curry Sauce, Rice',\n",
       "  'serving': '1 plate',\n",
       "  'price': '15.0',\n",
       "  'calories': '700'},\n",
       " {'id': 82,\n",
       "  'name': 'Cobb Salad',\n",
       "  'cuisine': 'American',\n",
       "  'type': 'Salad',\n",
       "  'ingredients': 'Lettuce, Bacon, Avocado, Egg, Blue Cheese',\n",
       "  'serving': '1 bowl',\n",
       "  'price': '10.5',\n",
       "  'calories': '500'},\n",
       " {'id': 83,\n",
       "  'name': 'Beef Burrito Bowl',\n",
       "  'cuisine': 'Mexican',\n",
       "  'type': 'Main Dish',\n",
       "  'ingredients': 'Rice, Beef, Beans, Salsa',\n",
       "  'serving': '1 bowl',\n",
       "  'price': '9.5',\n",
       "  'calories': '600'},\n",
       " {'id': 84,\n",
       "  'name': 'Roast Chicken',\n",
       "  'cuisine': 'American',\n",
       "  'type': 'Main Dish',\n",
       "  'ingredients': 'Chicken, Herbs, Potatoes',\n",
       "  'serving': '1 serving',\n",
       "  'price': '14.0',\n",
       "  'calories': '550'},\n",
       " {'id': 85,\n",
       "  'name': 'Quiche Lorraine',\n",
       "  'cuisine': 'French',\n",
       "  'type': 'Main Dish',\n",
       "  'ingredients': 'Eggs, Bacon, Cheese, Pastry',\n",
       "  'serving': '1 slice',\n",
       "  'price': '7.5',\n",
       "  'calories': '350'},\n",
       " {'id': 86,\n",
       "  'name': 'Lamb Shawarma',\n",
       "  'cuisine': 'Middle Eastern',\n",
       "  'type': 'Main Dish',\n",
       "  'ingredients': 'Lamb, Pita, Vegetables, Garlic Sauce',\n",
       "  'serving': '1 serving',\n",
       "  'price': '12.0',\n",
       "  'calories': '600'},\n",
       " {'id': 87,\n",
       "  'name': 'Chocolate Mousse',\n",
       "  'cuisine': 'French',\n",
       "  'type': 'Dessert',\n",
       "  'ingredients': 'Chocolate, Cream, Sugar',\n",
       "  'serving': '1 serving',\n",
       "  'price': '6.5',\n",
       "  'calories': '400'},\n",
       " {'id': 88,\n",
       "  'name': 'Grilled Cheese Sandwich',\n",
       "  'cuisine': 'American',\n",
       "  'type': 'Sandwich',\n",
       "  'ingredients': 'Bread, Cheese, Butter',\n",
       "  'serving': '1 sandwich',\n",
       "  'price': '5.0',\n",
       "  'calories': '400'},\n",
       " {'id': 89,\n",
       "  'name': 'Stuffed Peppers',\n",
       "  'cuisine': 'Mediterranean',\n",
       "  'type': 'Main Dish',\n",
       "  'ingredients': 'Bell Peppers, Rice, Ground Meat',\n",
       "  'serving': '1 serving',\n",
       "  'price': '10.0',\n",
       "  'calories': '500'},\n",
       " {'id': 90,\n",
       "  'name': 'Shrimp Tacos',\n",
       "  'cuisine': 'Mexican',\n",
       "  'type': 'Main Dish',\n",
       "  'ingredients': 'Shrimp, Tortillas, Salsa, Cabbage',\n",
       "  'serving': '3 tacos',\n",
       "  'price': '9.5',\n",
       "  'calories': '350'},\n",
       " {'id': 91,\n",
       "  'name': 'Chicken Satay',\n",
       "  'cuisine': 'Thai',\n",
       "  'type': 'Appetizer',\n",
       "  'ingredients': 'Chicken, Peanut Sauce',\n",
       "  'serving': '1 serving',\n",
       "  'price': '8.0',\n",
       "  'calories': '300'},\n",
       " {'id': 92,\n",
       "  'name': 'Pork Dumplings',\n",
       "  'cuisine': 'Chinese',\n",
       "  'type': 'Appetizer',\n",
       "  'ingredients': 'Pork, Dumpling Wrappers, Soy Sauce',\n",
       "  'serving': '6 pieces',\n",
       "  'price': '7.5',\n",
       "  'calories': '250'},\n",
       " {'id': 93,\n",
       "  'name': 'Cheesecake',\n",
       "  'cuisine': 'Dessert',\n",
       "  'type': 'Dessert',\n",
       "  'ingredients': 'Cream Cheese, Sugar, Graham Cracker Crust',\n",
       "  'serving': '1 slice',\n",
       "  'price': '6.0',\n",
       "  'calories': '500'},\n",
       " {'id': 94,\n",
       "  'name': 'Gumbo',\n",
       "  'cuisine': 'American',\n",
       "  'type': 'Soup',\n",
       "  'ingredients': 'Shrimp, Sausage, Rice, Okra',\n",
       "  'serving': '1 bowl',\n",
       "  'price': '12.0',\n",
       "  'calories': '450'},\n",
       " {'id': 95,\n",
       "  'name': 'Roast Beef Sandwich',\n",
       "  'cuisine': 'American',\n",
       "  'type': 'Sandwich',\n",
       "  'ingredients': 'Roast Beef, Horseradish, Bread',\n",
       "  'serving': '1 sandwich',\n",
       "  'price': '8.0',\n",
       "  'calories': '500'},\n",
       " {'id': 96,\n",
       "  'name': 'Pasta Primavera',\n",
       "  'cuisine': 'Italian',\n",
       "  'type': 'Main Dish',\n",
       "  'ingredients': 'Pasta, Mixed Vegetables, Olive Oil',\n",
       "  'serving': '1 plate',\n",
       "  'price': '11.0',\n",
       "  'calories': '450'},\n",
       " {'id': 97,\n",
       "  'name': 'Potato Gnocchi',\n",
       "  'cuisine': 'Italian',\n",
       "  'type': 'Main Dish',\n",
       "  'ingredients': 'Potatoes, Flour, Parmesan',\n",
       "  'serving': '1 plate',\n",
       "  'price': '12.0',\n",
       "  'calories': '500'},\n",
       " {'id': 98,\n",
       "  'name': 'Apple Pie',\n",
       "  'cuisine': 'American',\n",
       "  'type': 'Dessert',\n",
       "  'ingredients': 'Apples, Sugar, Pie Crust',\n",
       "  'serving': '1 slice',\n",
       "  'price': '5.0',\n",
       "  'calories': '300'},\n",
       " {'id': 99,\n",
       "  'name': 'Shrimp Risotto',\n",
       "  'cuisine': 'Italian',\n",
       "  'type': 'Main Dish',\n",
       "  'ingredients': 'Shrimp, Arborio Rice, Parmesan',\n",
       "  'serving': '1 plate',\n",
       "  'price': '16.0',\n",
       "  'calories': '600'}]"
      ]
     },
     "execution_count": 12,
     "metadata": {},
     "output_type": "execute_result"
    }
   ],
   "source": [
    "documents"
   ]
  },
  {
   "cell_type": "code",
   "execution_count": 13,
   "id": "e1ec30be-5638-4361-8001-1885da80f458",
   "metadata": {},
   "outputs": [],
   "source": [
    "import minsearch"
   ]
  },
  {
   "cell_type": "code",
   "execution_count": 14,
   "id": "9762b3c6-e0a3-4fe5-a15a-15640b847ded",
   "metadata": {},
   "outputs": [],
   "source": [
    "index = minsearch.Index(\n",
    "    text_fields=['name', 'cuisine', 'type', 'ingredients',\n",
    "       'serving', 'price', 'calories'],\n",
    "    keyword_fields=['id']\n",
    ")"
   ]
  },
  {
   "cell_type": "code",
   "execution_count": 15,
   "id": "136bbaaa-5fd1-4748-aed0-7115addd6734",
   "metadata": {},
   "outputs": [
    {
     "data": {
      "text/plain": [
       "<minsearch.Index at 0x78feb82e22d0>"
      ]
     },
     "execution_count": 15,
     "metadata": {},
     "output_type": "execute_result"
    }
   ],
   "source": [
    "index.fit(documents)"
   ]
  },
  {
   "cell_type": "code",
   "execution_count": 21,
   "id": "0b2faf59-19a3-4f43-8db8-ffac1265f342",
   "metadata": {},
   "outputs": [],
   "source": [
    "import os"
   ]
  },
  {
   "cell_type": "code",
   "execution_count": 22,
   "id": "d2915d38-0336-4623-ad6c-7d99a9a12607",
   "metadata": {},
   "outputs": [],
   "source": [
    "os.environ['OPENAI_API_KEY']='YOUR OPEN API'"
   ]
  },
  {
   "cell_type": "code",
   "execution_count": 23,
   "id": "64febc59-a1c9-484b-9134-65e43f9a2f1b",
   "metadata": {},
   "outputs": [],
   "source": [
    "from openai import OpenAI\n",
    "\n",
    "client = OpenAI()"
   ]
  },
  {
   "cell_type": "code",
   "execution_count": 24,
   "id": "8dfa53c4-0f00-49a5-b99a-d2c83b07c006",
   "metadata": {
    "scrolled": true
   },
   "outputs": [],
   "source": [
    "def search(query):\n",
    "    boost = {}\n",
    "\n",
    "    results = index.search(\n",
    "        query=query,\n",
    "        filter_dict={},\n",
    "        boost_dict=boost,\n",
    "        num_results=10\n",
    "    )\n",
    "\n",
    "    return results"
   ]
  },
  {
   "cell_type": "code",
   "execution_count": 25,
   "id": "9233f78c-6d53-4fcd-840a-20911c60e59e",
   "metadata": {},
   "outputs": [],
   "source": [
    "prompt_template = \"\"\"\n",
    "You're a food order. Answer the QUESTION based on the CONTEXT from our exercises database.\n",
    "Use only the facts from the CONTEXT when answering the QUESTION.\n",
    "\n",
    "QUESTION: {question}\n",
    "\n",
    "CONTEXT:\n",
    "{context}\n",
    "\"\"\".strip()\n",
    "\n",
    "entry_template = \"\"\"\n",
    "name: {name}\n",
    "cuisine: {cuisine}\n",
    "type: {type}\n",
    "ingredients: {ingredients}\n",
    "serving: {serving}\n",
    "price: {price}\n",
    "calories: {calories}\n",
    "\"\"\".strip()\n",
    "\n",
    "def build_prompt(query, search_results):\n",
    "    context = \"\"\n",
    "    \n",
    "    for doc in search_results:\n",
    "        context = context + entry_template.format(**doc) + \"\\n\\n\"\n",
    "\n",
    "    prompt = prompt_template.format(question=query, context=context).strip()\n",
    "    return prompt"
   ]
  },
  {
   "cell_type": "code",
   "execution_count": 26,
   "id": "fe901661-f5c0-443d-b464-ee0bf08aa3a3",
   "metadata": {},
   "outputs": [],
   "source": [
    "def llm(prompt, model='gpt-4o-mini'):\n",
    "    response = client.chat.completions.create(\n",
    "        model=model,\n",
    "        messages=[{\"role\": \"user\", \"content\": prompt}]\n",
    "    )\n",
    "    \n",
    "    return response.choices[0].message.content"
   ]
  },
  {
   "cell_type": "code",
   "execution_count": 27,
   "id": "80fd0ea2-4307-4bdd-9e52-95ac15edd6f4",
   "metadata": {},
   "outputs": [],
   "source": [
    "def rag(query, model='gpt-4o-mini'):\n",
    "    search_results = search(query)\n",
    "    prompt = build_prompt(query, search_results)\n",
    "    #print(prompt)\n",
    "    answer = llm(prompt, model=model)\n",
    "    return answer"
   ]
  },
  {
   "cell_type": "code",
   "execution_count": 30,
   "id": "671707cf-d6fb-441d-bfe3-86334d71f87d",
   "metadata": {},
   "outputs": [
    {
     "name": "stdout",
     "output_type": "stream",
     "text": [
      "With your budget of $30, you can order the following Thai food options:\n",
      "\n",
      "1. **Pad Thai** - $14.00\n",
      "2. **Tom Yum Soup** - $11.00\n",
      "3. **Chicken Satay** - $8.00\n",
      "\n",
      "You can choose any combination of these options. For example, you can order:\n",
      "- Pad Thai and Tom Yum Soup for a total of $25.00.\n",
      "- Pad Thai and Chicken Satay for a total of $22.00.\n",
      "- Tom Yum Soup and Chicken Satay for a total of $19.00.\n",
      "\n",
      "Or, you can order all three for a total of $33.00, which would exceed your budget. \n"
     ]
    }
   ],
   "source": [
    "question = 'I just have 30$ can you suggest me some Thai lan food?'\n",
    "answer = rag(question)\n",
    "print(answer)"
   ]
  },
  {
   "cell_type": "markdown",
   "id": "88772873",
   "metadata": {},
   "source": [
    "## Using elastic search"
   ]
  },
  {
   "cell_type": "markdown",
   "id": "f135bb62",
   "metadata": {},
   "source": [
    "Run the docker elastic search\n",
    "\n",
    "    docker run -it \\\n",
    "    --rm \\\n",
    "    --name elasticsearch \\\n",
    "    -p 9200:9200 \\\n",
    "    -p 9300:9300 \\\n",
    "    -e \"discovery.type=single-node\" \\\n",
    "    -e \"xpack.security.enabled=false\" \\\n",
    "    elasticsearch:8.4.3\n"
   ]
  },
  {
   "cell_type": "code",
   "execution_count": 12,
   "id": "981d9f25-4049-4cb1-bb1d-d771cb0868e4",
   "metadata": {},
   "outputs": [],
   "source": [
    "import pandas as pd\n",
    "import tqdm\n",
    "\n",
    "df = pd.read_csv('../data/data.csv')\n",
    "\n",
    "# Convert 'price' and 'calories' to string\n",
    "df['price'] = df['price'].astype(str)\n",
    "df['calories'] = df['calories'].astype(str)\n",
    "\n",
    "documents = df.to_dict(orient='records')"
   ]
  },
  {
   "cell_type": "code",
   "execution_count": 13,
   "id": "f9e23012-9816-4d6e-8c5c-cc4ebe019d60",
   "metadata": {},
   "outputs": [
    {
     "data": {
      "text/plain": [
       "[{'id': 0,\n",
       "  'name': 'Margherita Pizza',\n",
       "  'cuisine': 'Italian',\n",
       "  'type': 'Main Dish',\n",
       "  'ingredients': 'Dough, Tomato Sauce, Mozzarella, Basil',\n",
       "  'serving': '1 slice',\n",
       "  'price': '12.0',\n",
       "  'calories': '250'},\n",
       " {'id': 1,\n",
       "  'name': 'Chicken Caesar Salad',\n",
       "  'cuisine': 'American',\n",
       "  'type': 'Salad',\n",
       "  'ingredients': 'Romaine Lettuce, Grilled Chicken, Dressing',\n",
       "  'serving': '1 bowl',\n",
       "  'price': '10.5',\n",
       "  'calories': '400'},\n",
       " {'id': 2,\n",
       "  'name': 'Pad Thai',\n",
       "  'cuisine': 'Thai',\n",
       "  'type': 'Main Dish',\n",
       "  'ingredients': 'Rice Noodles, Shrimp, Peanuts, Bean Sprouts',\n",
       "  'serving': '1 plate',\n",
       "  'price': '14.0',\n",
       "  'calories': '600'},\n",
       " {'id': 3,\n",
       "  'name': 'Sushi Roll (California)',\n",
       "  'cuisine': 'Japanese',\n",
       "  'type': 'Appetizer',\n",
       "  'ingredients': 'Sushi Rice, Nori, Crab, Avocado, Cucumber',\n",
       "  'serving': '8 pieces',\n",
       "  'price': '9.0',\n",
       "  'calories': '300'},\n",
       " {'id': 4,\n",
       "  'name': 'Cheeseburger',\n",
       "  'cuisine': 'American',\n",
       "  'type': 'Main Dish',\n",
       "  'ingredients': 'Ground Beef, Cheddar, Lettuce, Tomato, Bun',\n",
       "  'serving': '1 burger',\n",
       "  'price': '11.0',\n",
       "  'calories': '450'},\n",
       " {'id': 5,\n",
       "  'name': 'Spaghetti Carbonara',\n",
       "  'cuisine': 'Italian',\n",
       "  'type': 'Main Dish',\n",
       "  'ingredients': 'Spaghetti, Eggs, Parmesan, Bacon',\n",
       "  'serving': '1 plate',\n",
       "  'price': '13.5',\n",
       "  'calories': '550'},\n",
       " {'id': 6,\n",
       "  'name': 'Beef Tacos',\n",
       "  'cuisine': 'Mexican',\n",
       "  'type': 'Main Dish',\n",
       "  'ingredients': 'Beef, Tortilla, Salsa, Cheese',\n",
       "  'serving': '3 tacos',\n",
       "  'price': '8.0',\n",
       "  'calories': '400'},\n",
       " {'id': 7,\n",
       "  'name': 'Greek Salad',\n",
       "  'cuisine': 'Mediterranean',\n",
       "  'type': 'Salad',\n",
       "  'ingredients': 'Cucumber, Feta, Olives, Red Onion',\n",
       "  'serving': '1 bowl',\n",
       "  'price': '7.0',\n",
       "  'calories': '320'},\n",
       " {'id': 8,\n",
       "  'name': 'BBQ Chicken Pizza',\n",
       "  'cuisine': 'American',\n",
       "  'type': 'Main Dish',\n",
       "  'ingredients': 'Dough, BBQ Sauce, Chicken, Cheese',\n",
       "  'serving': '1 slice',\n",
       "  'price': '13.0',\n",
       "  'calories': '300'},\n",
       " {'id': 9,\n",
       "  'name': 'Egg Fried Rice',\n",
       "  'cuisine': 'Chinese',\n",
       "  'type': 'Main Dish',\n",
       "  'ingredients': 'Rice, Egg, Soy Sauce, Peas',\n",
       "  'serving': '1 plate',\n",
       "  'price': '9.5',\n",
       "  'calories': '450'},\n",
       " {'id': 10,\n",
       "  'name': 'French Onion Soup',\n",
       "  'cuisine': 'French',\n",
       "  'type': 'Soup',\n",
       "  'ingredients': 'Onions, Beef Broth, Gruyère Cheese',\n",
       "  'serving': '1 bowl',\n",
       "  'price': '7.5',\n",
       "  'calories': '200'},\n",
       " {'id': 11,\n",
       "  'name': 'Butter Chicken',\n",
       "  'cuisine': 'Indian',\n",
       "  'type': 'Main Dish',\n",
       "  'ingredients': 'Chicken, Cream, Tomato Sauce, Spices',\n",
       "  'serving': '1 plate',\n",
       "  'price': '15.0',\n",
       "  'calories': '550'},\n",
       " {'id': 12,\n",
       "  'name': 'Fish and Chips',\n",
       "  'cuisine': 'British',\n",
       "  'type': 'Main Dish',\n",
       "  'ingredients': 'Cod, Potatoes, Tartar Sauce',\n",
       "  'serving': '1 serving',\n",
       "  'price': '14.0',\n",
       "  'calories': '600'},\n",
       " {'id': 13,\n",
       "  'name': 'Veggie Burger',\n",
       "  'cuisine': 'American',\n",
       "  'type': 'Main Dish',\n",
       "  'ingredients': 'Veggie Patty, Lettuce, Tomato, Bun',\n",
       "  'serving': '1 burger',\n",
       "  'price': '9.5',\n",
       "  'calories': '350'},\n",
       " {'id': 14,\n",
       "  'name': 'Chicken Biryani',\n",
       "  'cuisine': 'Indian',\n",
       "  'type': 'Main Dish',\n",
       "  'ingredients': 'Rice, Chicken, Spices',\n",
       "  'serving': '1 plate',\n",
       "  'price': '12.5',\n",
       "  'calories': '700'},\n",
       " {'id': 15,\n",
       "  'name': 'Falafel Wrap',\n",
       "  'cuisine': 'Middle Eastern',\n",
       "  'type': 'Main Dish',\n",
       "  'ingredients': 'Falafel, Pita, Hummus, Lettuce, Tomato',\n",
       "  'serving': '1 wrap',\n",
       "  'price': '8.5',\n",
       "  'calories': '350'},\n",
       " {'id': 16,\n",
       "  'name': 'Shrimp Scampi',\n",
       "  'cuisine': 'Italian',\n",
       "  'type': 'Main Dish',\n",
       "  'ingredients': 'Shrimp, Garlic, Butter, Pasta',\n",
       "  'serving': '1 plate',\n",
       "  'price': '16.0',\n",
       "  'calories': '600'},\n",
       " {'id': 17,\n",
       "  'name': 'Lobster Roll',\n",
       "  'cuisine': 'American',\n",
       "  'type': 'Sandwich',\n",
       "  'ingredients': 'Lobster, Butter, Hot Dog Bun',\n",
       "  'serving': '1 roll',\n",
       "  'price': '18.0',\n",
       "  'calories': '450'},\n",
       " {'id': 18,\n",
       "  'name': 'Chocolate Lava Cake',\n",
       "  'cuisine': 'Dessert',\n",
       "  'type': 'Dessert',\n",
       "  'ingredients': 'Chocolate, Butter, Sugar, Flour, Eggs',\n",
       "  'serving': '1 cake',\n",
       "  'price': '7.0',\n",
       "  'calories': '500'},\n",
       " {'id': 19,\n",
       "  'name': 'Chicken Alfredo Pasta',\n",
       "  'cuisine': 'Italian',\n",
       "  'type': 'Main Dish',\n",
       "  'ingredients': 'Pasta, Chicken, Cream Sauce',\n",
       "  'serving': '1 plate',\n",
       "  'price': '12.0',\n",
       "  'calories': '700'},\n",
       " {'id': 20,\n",
       "  'name': 'Steak Frites',\n",
       "  'cuisine': 'French',\n",
       "  'type': 'Main Dish',\n",
       "  'ingredients': 'Steak, French Fries',\n",
       "  'serving': '1 serving',\n",
       "  'price': '18.0',\n",
       "  'calories': '800'},\n",
       " {'id': 21,\n",
       "  'name': 'Vegetable Stir-Fry',\n",
       "  'cuisine': 'Chinese',\n",
       "  'type': 'Main Dish',\n",
       "  'ingredients': 'Mixed Vegetables, Soy Sauce',\n",
       "  'serving': '1 plate',\n",
       "  'price': '9.0',\n",
       "  'calories': '350'},\n",
       " {'id': 22,\n",
       "  'name': 'Tom Yum Soup',\n",
       "  'cuisine': 'Thai',\n",
       "  'type': 'Soup',\n",
       "  'ingredients': 'Shrimp, Lemongrass, Chili',\n",
       "  'serving': '1 bowl',\n",
       "  'price': '11.0',\n",
       "  'calories': '200'},\n",
       " {'id': 23,\n",
       "  'name': 'Avocado Toast',\n",
       "  'cuisine': 'American',\n",
       "  'type': 'Breakfast',\n",
       "  'ingredients': 'Avocado, Toast',\n",
       "  'serving': '1 slice',\n",
       "  'price': '7.5',\n",
       "  'calories': '250'},\n",
       " {'id': 24,\n",
       "  'name': 'Ramen Noodles',\n",
       "  'cuisine': 'Japanese',\n",
       "  'type': 'Main Dish',\n",
       "  'ingredients': 'Noodles, Pork, Broth',\n",
       "  'serving': '1 bowl',\n",
       "  'price': '12.0',\n",
       "  'calories': '550'},\n",
       " {'id': 25,\n",
       "  'name': 'Pulled Pork Sandwich',\n",
       "  'cuisine': 'American',\n",
       "  'type': 'Sandwich',\n",
       "  'ingredients': 'Pulled Pork, BBQ Sauce, Bun',\n",
       "  'serving': '1 sandwich',\n",
       "  'price': '10.0',\n",
       "  'calories': '600'},\n",
       " {'id': 26,\n",
       "  'name': 'Miso Soup',\n",
       "  'cuisine': 'Japanese',\n",
       "  'type': 'Soup',\n",
       "  'ingredients': 'Miso Paste, Tofu, Seaweed',\n",
       "  'serving': '1 bowl',\n",
       "  'price': '5.0',\n",
       "  'calories': '100'},\n",
       " {'id': 27,\n",
       "  'name': 'Pho',\n",
       "  'cuisine': 'Vietnamese',\n",
       "  'type': 'Soup',\n",
       "  'ingredients': 'Rice Noodles, Beef, Broth',\n",
       "  'serving': '1 bowl',\n",
       "  'price': '12.0',\n",
       "  'calories': '450'},\n",
       " {'id': 28,\n",
       "  'name': 'Eggplant Parmesan',\n",
       "  'cuisine': 'Italian',\n",
       "  'type': 'Main Dish',\n",
       "  'ingredients': 'Eggplant, Tomato Sauce, Mozzarella',\n",
       "  'serving': '1 plate',\n",
       "  'price': '11.5',\n",
       "  'calories': '500'},\n",
       " {'id': 29,\n",
       "  'name': 'Peking Duck',\n",
       "  'cuisine': 'Chinese',\n",
       "  'type': 'Main Dish',\n",
       "  'ingredients': 'Duck, Pancakes, Hoisin Sauce',\n",
       "  'serving': '1 plate',\n",
       "  'price': '25.0',\n",
       "  'calories': '850'},\n",
       " {'id': 30,\n",
       "  'name': 'Buffalo Wings',\n",
       "  'cuisine': 'American',\n",
       "  'type': 'Appetizer',\n",
       "  'ingredients': 'Chicken Wings, Buffalo Sauce',\n",
       "  'serving': '6 pieces',\n",
       "  'price': '9.0',\n",
       "  'calories': '600'},\n",
       " {'id': 31,\n",
       "  'name': 'Spring Rolls',\n",
       "  'cuisine': 'Vietnamese',\n",
       "  'type': 'Appetizer',\n",
       "  'ingredients': 'Rice Paper, Shrimp, Vegetables',\n",
       "  'serving': '4 rolls',\n",
       "  'price': '7.5',\n",
       "  'calories': '250'},\n",
       " {'id': 32,\n",
       "  'name': 'Grilled Salmon',\n",
       "  'cuisine': 'American',\n",
       "  'type': 'Main Dish',\n",
       "  'ingredients': 'Salmon, Lemon, Herbs',\n",
       "  'serving': '1 fillet',\n",
       "  'price': '16.0',\n",
       "  'calories': '400'},\n",
       " {'id': 33,\n",
       "  'name': 'Vegetarian Lasagna',\n",
       "  'cuisine': 'Italian',\n",
       "  'type': 'Main Dish',\n",
       "  'ingredients': 'Lasagna Noodles, Ricotta, Spinach, Tomato Sauce',\n",
       "  'serving': '1 plate',\n",
       "  'price': '13.0',\n",
       "  'calories': '550'},\n",
       " {'id': 34,\n",
       "  'name': 'Chicken Quesadilla',\n",
       "  'cuisine': 'Mexican',\n",
       "  'type': 'Main Dish',\n",
       "  'ingredients': 'Chicken, Cheese, Tortilla',\n",
       "  'serving': '1 serving',\n",
       "  'price': '8.5',\n",
       "  'calories': '450'},\n",
       " {'id': 35,\n",
       "  'name': 'Tuna Sashimi',\n",
       "  'cuisine': 'Japanese',\n",
       "  'type': 'Appetizer',\n",
       "  'ingredients': 'Tuna, Soy Sauce',\n",
       "  'serving': '6 pieces',\n",
       "  'price': '14.0',\n",
       "  'calories': '300'},\n",
       " {'id': 36,\n",
       "  'name': 'Shakshuka',\n",
       "  'cuisine': 'Middle Eastern',\n",
       "  'type': 'Breakfast',\n",
       "  'ingredients': 'Eggs, Tomato Sauce, Peppers',\n",
       "  'serving': '1 pan',\n",
       "  'price': '10.0',\n",
       "  'calories': '350'},\n",
       " {'id': 37,\n",
       "  'name': 'Burrito',\n",
       "  'cuisine': 'Mexican',\n",
       "  'type': 'Main Dish',\n",
       "  'ingredients': 'Rice, Beans, Chicken, Salsa',\n",
       "  'serving': '1 burrito',\n",
       "  'price': '8.5',\n",
       "  'calories': '700'},\n",
       " {'id': 38,\n",
       "  'name': 'Dim Sum',\n",
       "  'cuisine': 'Chinese',\n",
       "  'type': 'Appetizer',\n",
       "  'ingredients': 'Dumplings, Pork, Shrimp',\n",
       "  'serving': '6 pieces',\n",
       "  'price': '12.0',\n",
       "  'calories': '300'},\n",
       " {'id': 39,\n",
       "  'name': 'Cauliflower Buffalo Bites',\n",
       "  'cuisine': 'American',\n",
       "  'type': 'Appetizer',\n",
       "  'ingredients': 'Cauliflower, Buffalo Sauce',\n",
       "  'serving': '1 plate',\n",
       "  'price': '7.5',\n",
       "  'calories': '250'},\n",
       " {'id': 40,\n",
       "  'name': 'Tiramisu',\n",
       "  'cuisine': 'Italian',\n",
       "  'type': 'Dessert',\n",
       "  'ingredients': 'Mascarpone, Espresso, Ladyfingers',\n",
       "  'serving': '1 slice',\n",
       "  'price': '6.5',\n",
       "  'calories': '450'},\n",
       " {'id': 41,\n",
       "  'name': 'Kimchi Fried Rice',\n",
       "  'cuisine': 'Korean',\n",
       "  'type': 'Main Dish',\n",
       "  'ingredients': 'Rice, Kimchi, Egg',\n",
       "  'serving': '1 plate',\n",
       "  'price': '9.0',\n",
       "  'calories': '500'},\n",
       " {'id': 42,\n",
       "  'name': 'Clam Chowder',\n",
       "  'cuisine': 'American',\n",
       "  'type': 'Soup',\n",
       "  'ingredients': 'Clams, Potatoes, Cream',\n",
       "  'serving': '1 bowl',\n",
       "  'price': '8.0',\n",
       "  'calories': '350'},\n",
       " {'id': 43,\n",
       "  'name': 'Gyro',\n",
       "  'cuisine': 'Greek',\n",
       "  'type': 'Sandwich',\n",
       "  'ingredients': 'Lamb, Tzatziki, Pita',\n",
       "  'serving': '1 serving',\n",
       "  'price': '10.5',\n",
       "  'calories': '600'},\n",
       " {'id': 44,\n",
       "  'name': 'Baklava',\n",
       "  'cuisine': 'Mediterranean',\n",
       "  'type': 'Dessert',\n",
       "  'ingredients': 'Phyllo Dough, Honey, Walnuts',\n",
       "  'serving': '1 slice',\n",
       "  'price': '5.0',\n",
       "  'calories': '300'},\n",
       " {'id': 45,\n",
       "  'name': 'Spaghetti Bolognese',\n",
       "  'cuisine': 'Italian',\n",
       "  'type': 'Main Dish',\n",
       "  'ingredients': 'Spaghetti, Ground Beef, Tomato Sauce',\n",
       "  'serving': '1 plate',\n",
       "  'price': '13.0',\n",
       "  'calories': '550'},\n",
       " {'id': 46,\n",
       "  'name': 'Chicken Shawarma',\n",
       "  'cuisine': 'Middle Eastern',\n",
       "  'type': 'Main Dish',\n",
       "  'ingredients': 'Chicken, Pita, Garlic Sauce',\n",
       "  'serving': '1 wrap',\n",
       "  'price': '9.0',\n",
       "  'calories': '450'},\n",
       " {'id': 47,\n",
       "  'name': 'Mac and Cheese',\n",
       "  'cuisine': 'American',\n",
       "  'type': 'Side Dish',\n",
       "  'ingredients': 'Macaroni, Cheese, Butter',\n",
       "  'serving': '1 bowl',\n",
       "  'price': '6.0',\n",
       "  'calories': '400'},\n",
       " {'id': 48,\n",
       "  'name': 'Beef Stroganoff',\n",
       "  'cuisine': 'Russian',\n",
       "  'type': 'Main Dish',\n",
       "  'ingredients': 'Beef, Mushrooms, Sour Cream, Noodles',\n",
       "  'serving': '1 plate',\n",
       "  'price': '14.0',\n",
       "  'calories': '600'},\n",
       " {'id': 49,\n",
       "  'name': 'Cheese Fondue',\n",
       "  'cuisine': 'Swiss',\n",
       "  'type': 'Appetizer',\n",
       "  'ingredients': 'Cheese, Bread',\n",
       "  'serving': '1 pot',\n",
       "  'price': '12.0',\n",
       "  'calories': '500'},\n",
       " {'id': 50,\n",
       "  'name': 'Chicken Parmesan',\n",
       "  'cuisine': 'Italian',\n",
       "  'type': 'Main Dish',\n",
       "  'ingredients': 'Chicken, Tomato Sauce, Mozzarella',\n",
       "  'serving': '1 plate',\n",
       "  'price': '14.0',\n",
       "  'calories': '700'},\n",
       " {'id': 51,\n",
       "  'name': 'Margarita',\n",
       "  'cuisine': 'Mexican',\n",
       "  'type': 'Beverage',\n",
       "  'ingredients': 'Tequila, Lime Juice, Triple Sec',\n",
       "  'serving': '1 glass',\n",
       "  'price': '8.0',\n",
       "  'calories': '200'},\n",
       " {'id': 52,\n",
       "  'name': 'Chocolate Chip Cookies',\n",
       "  'cuisine': 'Dessert',\n",
       "  'type': 'Dessert',\n",
       "  'ingredients': 'Flour, Butter, Chocolate Chips',\n",
       "  'serving': '2 cookies',\n",
       "  'price': '4.0',\n",
       "  'calories': '300'},\n",
       " {'id': 53,\n",
       "  'name': 'Gnocchi',\n",
       "  'cuisine': 'Italian',\n",
       "  'type': 'Main Dish',\n",
       "  'ingredients': 'Potatoes, Flour, Parmesan',\n",
       "  'serving': '1 plate',\n",
       "  'price': '13.0',\n",
       "  'calories': '500'},\n",
       " {'id': 54,\n",
       "  'name': 'Falafel Salad',\n",
       "  'cuisine': 'Middle Eastern',\n",
       "  'type': 'Salad',\n",
       "  'ingredients': 'Falafel, Lettuce, Tomato, Hummus',\n",
       "  'serving': '1 bowl',\n",
       "  'price': '8.5',\n",
       "  'calories': '400'},\n",
       " {'id': 55,\n",
       "  'name': 'Pork Ribs',\n",
       "  'cuisine': 'American',\n",
       "  'type': 'Main Dish',\n",
       "  'ingredients': 'Pork Ribs, BBQ Sauce',\n",
       "  'serving': '1 serving',\n",
       "  'price': '16.0',\n",
       "  'calories': '700'},\n",
       " {'id': 56,\n",
       "  'name': 'Fish Tacos',\n",
       "  'cuisine': 'Mexican',\n",
       "  'type': 'Main Dish',\n",
       "  'ingredients': 'Fish, Tortilla, Salsa, Cabbage',\n",
       "  'serving': '3 tacos',\n",
       "  'price': '9.0',\n",
       "  'calories': '350'},\n",
       " {'id': 57,\n",
       "  'name': 'Crepes',\n",
       "  'cuisine': 'French',\n",
       "  'type': 'Dessert',\n",
       "  'ingredients': 'Flour, Eggs, Milk, Sugar',\n",
       "  'serving': '1 crepe',\n",
       "  'price': '6.5',\n",
       "  'calories': '250'},\n",
       " {'id': 58,\n",
       "  'name': 'Moussaka',\n",
       "  'cuisine': 'Greek',\n",
       "  'type': 'Main Dish',\n",
       "  'ingredients': 'Eggplant, Ground Beef, Bechamel',\n",
       "  'serving': '1 plate',\n",
       "  'price': '13.0',\n",
       "  'calories': '600'},\n",
       " {'id': 59,\n",
       "  'name': 'Chicken Pad See Ew',\n",
       "  'cuisine': 'Thai',\n",
       "  'type': 'Main Dish',\n",
       "  'ingredients': 'Rice Noodles, Chicken, Soy Sauce, Vegetables',\n",
       "  'serving': '1 plate',\n",
       "  'price': '13.5',\n",
       "  'calories': '600'},\n",
       " {'id': 60,\n",
       "  'name': 'French Toast',\n",
       "  'cuisine': 'American',\n",
       "  'type': 'Breakfast',\n",
       "  'ingredients': 'Bread, Eggs, Milk, Cinnamon',\n",
       "  'serving': '1 slice',\n",
       "  'price': '7.0',\n",
       "  'calories': '300'},\n",
       " {'id': 61,\n",
       "  'name': 'Beef Wellington',\n",
       "  'cuisine': 'British',\n",
       "  'type': 'Main Dish',\n",
       "  'ingredients': 'Beef, Puff Pastry, Mushrooms',\n",
       "  'serving': '1 serving',\n",
       "  'price': '25.0',\n",
       "  'calories': '800'},\n",
       " {'id': 62,\n",
       "  'name': 'Vegetable Curry',\n",
       "  'cuisine': 'Indian',\n",
       "  'type': 'Main Dish',\n",
       "  'ingredients': 'Mixed Vegetables, Curry Sauce, Rice',\n",
       "  'serving': '1 plate',\n",
       "  'price': '12.0',\n",
       "  'calories': '500'},\n",
       " {'id': 63,\n",
       "  'name': 'Chicken and Waffles',\n",
       "  'cuisine': 'American',\n",
       "  'type': 'Main Dish',\n",
       "  'ingredients': 'Fried Chicken, Waffles, Syrup',\n",
       "  'serving': '1 serving',\n",
       "  'price': '15.0',\n",
       "  'calories': '750'},\n",
       " {'id': 64,\n",
       "  'name': 'Huevos Rancheros',\n",
       "  'cuisine': 'Mexican',\n",
       "  'type': 'Breakfast',\n",
       "  'ingredients': 'Eggs, Tortillas, Salsa',\n",
       "  'serving': '1 serving',\n",
       "  'price': '9.0',\n",
       "  'calories': '400'},\n",
       " {'id': 65,\n",
       "  'name': 'Spinach and Ricotta Ravioli',\n",
       "  'cuisine': 'Italian',\n",
       "  'type': 'Main Dish',\n",
       "  'ingredients': 'Ravioli, Spinach, Ricotta Cheese',\n",
       "  'serving': '1 plate',\n",
       "  'price': '14.0',\n",
       "  'calories': '550'},\n",
       " {'id': 66,\n",
       "  'name': 'Sweet and Sour Chicken',\n",
       "  'cuisine': 'Chinese',\n",
       "  'type': 'Main Dish',\n",
       "  'ingredients': 'Chicken, Bell Peppers, Pineapple',\n",
       "  'serving': '1 plate',\n",
       "  'price': '11.5',\n",
       "  'calories': '600'},\n",
       " {'id': 67,\n",
       "  'name': 'Penne Arrabbiata',\n",
       "  'cuisine': 'Italian',\n",
       "  'type': 'Main Dish',\n",
       "  'ingredients': 'Penne, Tomato Sauce, Red Chili',\n",
       "  'serving': '1 plate',\n",
       "  'price': '12.0',\n",
       "  'calories': '500'},\n",
       " {'id': 68,\n",
       "  'name': 'Fettuccine Alfredo',\n",
       "  'cuisine': 'Italian',\n",
       "  'type': 'Main Dish',\n",
       "  'ingredients': 'Fettuccine, Cream, Parmesan',\n",
       "  'serving': '1 plate',\n",
       "  'price': '13.0',\n",
       "  'calories': '700'},\n",
       " {'id': 69,\n",
       "  'name': 'Tofu Stir-Fry',\n",
       "  'cuisine': 'Chinese',\n",
       "  'type': 'Main Dish',\n",
       "  'ingredients': 'Tofu, Vegetables, Soy Sauce',\n",
       "  'serving': '1 plate',\n",
       "  'price': '10.0',\n",
       "  'calories': '350'},\n",
       " {'id': 70,\n",
       "  'name': 'Tandoori Chicken',\n",
       "  'cuisine': 'Indian',\n",
       "  'type': 'Main Dish',\n",
       "  'ingredients': 'Chicken, Yogurt, Spices',\n",
       "  'serving': '1 serving',\n",
       "  'price': '15.0',\n",
       "  'calories': '550'},\n",
       " {'id': 71,\n",
       "  'name': 'Churros',\n",
       "  'cuisine': 'Mexican',\n",
       "  'type': 'Dessert',\n",
       "  'ingredients': 'Flour, Cinnamon, Sugar',\n",
       "  'serving': '3 pieces',\n",
       "  'price': '6.0',\n",
       "  'calories': '300'},\n",
       " {'id': 72,\n",
       "  'name': 'Bruschetta',\n",
       "  'cuisine': 'Italian',\n",
       "  'type': 'Appetizer',\n",
       "  'ingredients': 'Bread, Tomatoes, Basil, Olive Oil',\n",
       "  'serving': '1 serving',\n",
       "  'price': '7.0',\n",
       "  'calories': '250'},\n",
       " {'id': 73,\n",
       "  'name': 'Lamb Kofta',\n",
       "  'cuisine': 'Middle Eastern',\n",
       "  'type': 'Main Dish',\n",
       "  'ingredients': 'Ground Lamb, Spices, Pita',\n",
       "  'serving': '1 serving',\n",
       "  'price': '12.5',\n",
       "  'calories': '550'},\n",
       " {'id': 74,\n",
       "  'name': 'Pumpkin Pie',\n",
       "  'cuisine': 'American',\n",
       "  'type': 'Dessert',\n",
       "  'ingredients': 'Pumpkin, Sugar, Pie Crust',\n",
       "  'serving': '1 slice',\n",
       "  'price': '5.5',\n",
       "  'calories': '300'},\n",
       " {'id': 75,\n",
       "  'name': 'Crab Cakes',\n",
       "  'cuisine': 'American',\n",
       "  'type': 'Appetizer',\n",
       "  'ingredients': 'Crab, Breadcrumbs, Spices',\n",
       "  'serving': '2 cakes',\n",
       "  'price': '13.0',\n",
       "  'calories': '400'},\n",
       " {'id': 76,\n",
       "  'name': 'Beef Pho',\n",
       "  'cuisine': 'Vietnamese',\n",
       "  'type': 'Soup',\n",
       "  'ingredients': 'Rice Noodles, Beef, Herbs',\n",
       "  'serving': '1 bowl',\n",
       "  'price': '12.0',\n",
       "  'calories': '450'},\n",
       " {'id': 77,\n",
       "  'name': 'Egg Drop Soup',\n",
       "  'cuisine': 'Chinese',\n",
       "  'type': 'Soup',\n",
       "  'ingredients': 'Egg, Chicken Broth, Cornstarch',\n",
       "  'serving': '1 bowl',\n",
       "  'price': '6.0',\n",
       "  'calories': '150'},\n",
       " {'id': 78,\n",
       "  'name': 'Caprese Salad',\n",
       "  'cuisine': 'Italian',\n",
       "  'type': 'Salad',\n",
       "  'ingredients': 'Tomatoes, Mozzarella, Basil, Olive Oil',\n",
       "  'serving': '1 plate',\n",
       "  'price': '8.5',\n",
       "  'calories': '300'},\n",
       " {'id': 79,\n",
       "  'name': 'French Crepe with Nutella',\n",
       "  'cuisine': 'French',\n",
       "  'type': 'Dessert',\n",
       "  'ingredients': 'Crepe, Nutella',\n",
       "  'serving': '1 crepe',\n",
       "  'price': '6.0',\n",
       "  'calories': '350'},\n",
       " {'id': 80,\n",
       "  'name': 'Seafood Paella',\n",
       "  'cuisine': 'Spanish',\n",
       "  'type': 'Main Dish',\n",
       "  'ingredients': 'Rice, Shrimp, Mussels, Saffron',\n",
       "  'serving': '1 plate',\n",
       "  'price': '18.0',\n",
       "  'calories': '700'},\n",
       " {'id': 81,\n",
       "  'name': 'Lamb Curry',\n",
       "  'cuisine': 'Indian',\n",
       "  'type': 'Main Dish',\n",
       "  'ingredients': 'Lamb, Curry Sauce, Rice',\n",
       "  'serving': '1 plate',\n",
       "  'price': '15.0',\n",
       "  'calories': '700'},\n",
       " {'id': 82,\n",
       "  'name': 'Cobb Salad',\n",
       "  'cuisine': 'American',\n",
       "  'type': 'Salad',\n",
       "  'ingredients': 'Lettuce, Bacon, Avocado, Egg, Blue Cheese',\n",
       "  'serving': '1 bowl',\n",
       "  'price': '10.5',\n",
       "  'calories': '500'},\n",
       " {'id': 83,\n",
       "  'name': 'Beef Burrito Bowl',\n",
       "  'cuisine': 'Mexican',\n",
       "  'type': 'Main Dish',\n",
       "  'ingredients': 'Rice, Beef, Beans, Salsa',\n",
       "  'serving': '1 bowl',\n",
       "  'price': '9.5',\n",
       "  'calories': '600'},\n",
       " {'id': 84,\n",
       "  'name': 'Roast Chicken',\n",
       "  'cuisine': 'American',\n",
       "  'type': 'Main Dish',\n",
       "  'ingredients': 'Chicken, Herbs, Potatoes',\n",
       "  'serving': '1 serving',\n",
       "  'price': '14.0',\n",
       "  'calories': '550'},\n",
       " {'id': 85,\n",
       "  'name': 'Quiche Lorraine',\n",
       "  'cuisine': 'French',\n",
       "  'type': 'Main Dish',\n",
       "  'ingredients': 'Eggs, Bacon, Cheese, Pastry',\n",
       "  'serving': '1 slice',\n",
       "  'price': '7.5',\n",
       "  'calories': '350'},\n",
       " {'id': 86,\n",
       "  'name': 'Lamb Shawarma',\n",
       "  'cuisine': 'Middle Eastern',\n",
       "  'type': 'Main Dish',\n",
       "  'ingredients': 'Lamb, Pita, Vegetables, Garlic Sauce',\n",
       "  'serving': '1 serving',\n",
       "  'price': '12.0',\n",
       "  'calories': '600'},\n",
       " {'id': 87,\n",
       "  'name': 'Chocolate Mousse',\n",
       "  'cuisine': 'French',\n",
       "  'type': 'Dessert',\n",
       "  'ingredients': 'Chocolate, Cream, Sugar',\n",
       "  'serving': '1 serving',\n",
       "  'price': '6.5',\n",
       "  'calories': '400'},\n",
       " {'id': 88,\n",
       "  'name': 'Grilled Cheese Sandwich',\n",
       "  'cuisine': 'American',\n",
       "  'type': 'Sandwich',\n",
       "  'ingredients': 'Bread, Cheese, Butter',\n",
       "  'serving': '1 sandwich',\n",
       "  'price': '5.0',\n",
       "  'calories': '400'},\n",
       " {'id': 89,\n",
       "  'name': 'Stuffed Peppers',\n",
       "  'cuisine': 'Mediterranean',\n",
       "  'type': 'Main Dish',\n",
       "  'ingredients': 'Bell Peppers, Rice, Ground Meat',\n",
       "  'serving': '1 serving',\n",
       "  'price': '10.0',\n",
       "  'calories': '500'},\n",
       " {'id': 90,\n",
       "  'name': 'Shrimp Tacos',\n",
       "  'cuisine': 'Mexican',\n",
       "  'type': 'Main Dish',\n",
       "  'ingredients': 'Shrimp, Tortillas, Salsa, Cabbage',\n",
       "  'serving': '3 tacos',\n",
       "  'price': '9.5',\n",
       "  'calories': '350'},\n",
       " {'id': 91,\n",
       "  'name': 'Chicken Satay',\n",
       "  'cuisine': 'Thai',\n",
       "  'type': 'Appetizer',\n",
       "  'ingredients': 'Chicken, Peanut Sauce',\n",
       "  'serving': '1 serving',\n",
       "  'price': '8.0',\n",
       "  'calories': '300'},\n",
       " {'id': 92,\n",
       "  'name': 'Pork Dumplings',\n",
       "  'cuisine': 'Chinese',\n",
       "  'type': 'Appetizer',\n",
       "  'ingredients': 'Pork, Dumpling Wrappers, Soy Sauce',\n",
       "  'serving': '6 pieces',\n",
       "  'price': '7.5',\n",
       "  'calories': '250'},\n",
       " {'id': 93,\n",
       "  'name': 'Cheesecake',\n",
       "  'cuisine': 'Dessert',\n",
       "  'type': 'Dessert',\n",
       "  'ingredients': 'Cream Cheese, Sugar, Graham Cracker Crust',\n",
       "  'serving': '1 slice',\n",
       "  'price': '6.0',\n",
       "  'calories': '500'},\n",
       " {'id': 94,\n",
       "  'name': 'Gumbo',\n",
       "  'cuisine': 'American',\n",
       "  'type': 'Soup',\n",
       "  'ingredients': 'Shrimp, Sausage, Rice, Okra',\n",
       "  'serving': '1 bowl',\n",
       "  'price': '12.0',\n",
       "  'calories': '450'},\n",
       " {'id': 95,\n",
       "  'name': 'Roast Beef Sandwich',\n",
       "  'cuisine': 'American',\n",
       "  'type': 'Sandwich',\n",
       "  'ingredients': 'Roast Beef, Horseradish, Bread',\n",
       "  'serving': '1 sandwich',\n",
       "  'price': '8.0',\n",
       "  'calories': '500'},\n",
       " {'id': 96,\n",
       "  'name': 'Pasta Primavera',\n",
       "  'cuisine': 'Italian',\n",
       "  'type': 'Main Dish',\n",
       "  'ingredients': 'Pasta, Mixed Vegetables, Olive Oil',\n",
       "  'serving': '1 plate',\n",
       "  'price': '11.0',\n",
       "  'calories': '450'},\n",
       " {'id': 97,\n",
       "  'name': 'Potato Gnocchi',\n",
       "  'cuisine': 'Italian',\n",
       "  'type': 'Main Dish',\n",
       "  'ingredients': 'Potatoes, Flour, Parmesan',\n",
       "  'serving': '1 plate',\n",
       "  'price': '12.0',\n",
       "  'calories': '500'},\n",
       " {'id': 98,\n",
       "  'name': 'Apple Pie',\n",
       "  'cuisine': 'American',\n",
       "  'type': 'Dessert',\n",
       "  'ingredients': 'Apples, Sugar, Pie Crust',\n",
       "  'serving': '1 slice',\n",
       "  'price': '5.0',\n",
       "  'calories': '300'},\n",
       " {'id': 99,\n",
       "  'name': 'Shrimp Risotto',\n",
       "  'cuisine': 'Italian',\n",
       "  'type': 'Main Dish',\n",
       "  'ingredients': 'Shrimp, Arborio Rice, Parmesan',\n",
       "  'serving': '1 plate',\n",
       "  'price': '16.0',\n",
       "  'calories': '600'}]"
      ]
     },
     "execution_count": 13,
     "metadata": {},
     "output_type": "execute_result"
    }
   ],
   "source": [
    "documents"
   ]
  },
  {
   "cell_type": "code",
   "execution_count": 66,
   "id": "4382b7f7",
   "metadata": {},
   "outputs": [],
   "source": [
    "from sentence_transformers import SentenceTransformer\n",
    "\n",
    "model_name = 'multi-qa-MiniLM-L6-cos-v1'\n",
    "model_encode = SentenceTransformer(model_name)"
   ]
  },
  {
   "cell_type": "code",
   "execution_count": 15,
   "id": "6492f3b0",
   "metadata": {},
   "outputs": [
    {
     "data": {
      "text/plain": [
       "ObjectApiResponse({'name': '8eba2dc8d7a1', 'cluster_name': 'docker-cluster', 'cluster_uuid': '9jCEDLXnQWmwQkbPvwGuQw', 'version': {'number': '8.4.3', 'build_flavor': 'default', 'build_type': 'docker', 'build_hash': '42f05b9372a9a4a470db3b52817899b99a76ee73', 'build_date': '2022-10-04T07:17:24.662462378Z', 'build_snapshot': False, 'lucene_version': '9.3.0', 'minimum_wire_compatibility_version': '7.17.0', 'minimum_index_compatibility_version': '7.0.0'}, 'tagline': 'You Know, for Search'})"
      ]
     },
     "execution_count": 15,
     "metadata": {},
     "output_type": "execute_result"
    }
   ],
   "source": [
    "from elasticsearch import Elasticsearch\n",
    "es_client = Elasticsearch('http://localhost:9200') \n",
    "\n",
    "es_client.info()"
   ]
  },
  {
   "cell_type": "code",
   "execution_count": 41,
   "id": "5a2063cd",
   "metadata": {},
   "outputs": [],
   "source": [
    "index_settings = {\n",
    "    \"settings\": {\n",
    "        \"number_of_shards\": 1,\n",
    "        \"number_of_replicas\": 0\n",
    "    },\n",
    "    \"mappings\": {\n",
    "        \"properties\": {\n",
    "            \"name\": {\"type\": \"text\"},\n",
    "            \"cuisine\": {\"type\": \"text\"},\n",
    "            \"type\": {\"type\": \"text\"},\n",
    "            \"ingredients\": {\"type\": \"text\"},\n",
    "            \"serving\": {\"type\": \"text\"},\n",
    "            \"price\": {\"type\": \"text\"},\n",
    "            \"calories\": {\"type\": \"text\"},\n",
    "            \"name_vector\": {\"type\": \"dense_vector\", \"dims\": 384, \"index\": True, \"similarity\": \"cosine\"},\n",
    "            \"cuisine_vector\": {\"type\": \"dense_vector\", \"dims\": 384, \"index\": True, \"similarity\": \"cosine\"},\n",
    "            \"type_vector\": {\"type\": \"dense_vector\", \"dims\": 384, \"index\": True, \"similarity\": \"cosine\"},\n",
    "            \"ingredients_vector\": {\"type\": \"dense_vector\", \"dims\": 384, \"index\": True, \"similarity\": \"cosine\"},\n",
    "            \"text_vector\": {\"type\": \"dense_vector\", \"dims\": 384, \"index\": True, \"similarity\": \"cosine\"},\n",
    "        }\n",
    "    }\n",
    "}"
   ]
  },
  {
   "cell_type": "code",
   "execution_count": 42,
   "id": "d94d99e4",
   "metadata": {},
   "outputs": [
    {
     "data": {
      "text/plain": [
       "ObjectApiResponse({'acknowledged': True, 'shards_acknowledged': True, 'index': 'food-list'})"
      ]
     },
     "execution_count": 42,
     "metadata": {},
     "output_type": "execute_result"
    }
   ],
   "source": [
    "index_name = \"food-list\"\n",
    "\n",
    "es_client.indices.delete(index=index_name, ignore_unavailable=True)\n",
    "es_client.indices.create(index=index_name, body=index_settings)"
   ]
  },
  {
   "cell_type": "code",
   "execution_count": 43,
   "id": "1e5be0d2",
   "metadata": {},
   "outputs": [
    {
     "data": {
      "application/vnd.jupyter.widget-view+json": {
       "model_id": "3954a3ec29134124863d23ef5e8cac22",
       "version_major": 2,
       "version_minor": 0
      },
      "text/plain": [
       "  0%|          | 0/100 [00:00<?, ?it/s]"
      ]
     },
     "metadata": {},
     "output_type": "display_data"
    }
   ],
   "source": [
    "from tqdm.auto import tqdm\n",
    "\n",
    "for doc in tqdm(documents):\n",
    "        name = doc[\"name\"]\n",
    "        cuisine = doc[\"cuisine\"]\n",
    "        types = doc[\"type\"]\n",
    "        ingredients = doc[\"ingredients\"]\n",
    "        serving = doc[\"serving\"]\n",
    "        price = doc[\"price\"]\n",
    "        calories = doc[\"calories\"]\n",
    "        doc['name_vector'] = model_encode.encode(name)\n",
    "        doc['cuisine_vector'] = model_encode.encode(cuisine)\n",
    "        doc['type_vector'] = model_encode.encode(types)\n",
    "        doc['ingredients_vector'] = model_encode.encode(ingredients)\n",
    "        doc[\"text_vector\"] = model_encode.encode(name + \" \" + cuisine + \" \" + types \\\n",
    "                                          + \" \" + ingredients + \" \" + serving + \" \" + price + \" \" + calories \\\n",
    "                                         ).tolist()\n",
    "        es_client.index(index=index_name, document=doc)"
   ]
  },
  {
   "cell_type": "code",
   "execution_count": 44,
   "id": "b6b029ce-d22a-4015-ad9a-e10bdd265a3c",
   "metadata": {},
   "outputs": [],
   "source": [
    "import os\n",
    "\n",
    "os.environ['OPENAI_API_KEY']='Your OPEN API KEY'"
   ]
  },
  {
   "cell_type": "code",
   "execution_count": 45,
   "id": "e0ff83c5-d0b8-40c4-8fd0-cda60fba27d3",
   "metadata": {},
   "outputs": [],
   "source": [
    "from openai import OpenAI\n",
    "\n",
    "client = OpenAI()"
   ]
  },
  {
   "cell_type": "code",
   "execution_count": 67,
   "id": "95320371",
   "metadata": {},
   "outputs": [],
   "source": [
    "def elastic_search_hybrid(field, query, vector):\n",
    "    knn_query = {\n",
    "        \"field\": field,\n",
    "        \"query_vector\": vector,\n",
    "        \"k\": 10,\n",
    "        \"num_candidates\": 10000,\n",
    "        \"boost\": 0.5\n",
    "    }\n",
    "\n",
    "    keyword_query = {\n",
    "        \"bool\": {\n",
    "            \"must\": {\n",
    "                \"multi_match\": {\n",
    "                    \"query\": query,\n",
    "                    \"fields\": [\"name\", \"cuisine\", \"type\", \"ingredients\", \"serving\", \"price\", \"calories\"],\n",
    "                    \"type\": \"best_fields\",\n",
    "                    \"boost\": 0.5,\n",
    "                }\n",
    "            }\n",
    "        }\n",
    "    }\n",
    "\n",
    "    search_query = {\n",
    "        \"knn\": knn_query,\n",
    "        \"query\": keyword_query,\n",
    "        \"size\": 10,\n",
    "        \"_source\": [\"name\", \"cuisine\", \"type\", \"ingredients\", \"serving\", \"price\", \"calories\", \"id\"]\n",
    "    }\n",
    "\n",
    "    es_results = es_client.search(\n",
    "        index=index_name,\n",
    "        body=search_query\n",
    "    )\n",
    "    \n",
    "    result_docs = []\n",
    "    \n",
    "    for hit in es_results['hits']['hits']:\n",
    "        result_docs.append(hit['_source'])\n",
    "\n",
    "    return result_docs"
   ]
  },
  {
   "cell_type": "code",
   "execution_count": 68,
   "id": "d9e7772c-4c83-4a47-9dfe-8d491154e4ed",
   "metadata": {},
   "outputs": [],
   "source": [
    "prompt_template = \"\"\"\n",
    "You're a food order. Answer the QUESTION based on the CONTEXT from our exercises database.\n",
    "Use only the facts from the CONTEXT when answering the QUESTION.\n",
    "\n",
    "QUESTION: {question}\n",
    "\n",
    "CONTEXT:\n",
    "{context}\n",
    "\"\"\".strip()\n",
    "\n",
    "entry_template = \"\"\"\n",
    "name: {name}\n",
    "cuisine: {cuisine}\n",
    "type: {type}\n",
    "ingredients: {ingredients}\n",
    "serving: {serving}\n",
    "price: {price}\n",
    "calories: {calories}\n",
    "\"\"\".strip()\n",
    "\n",
    "def build_prompt(query, search_results):\n",
    "    context = \"\"\n",
    "    \n",
    "    for doc in search_results:\n",
    "        context = context + entry_template.format(**doc) + \"\\n\\n\"\n",
    "\n",
    "    prompt = prompt_template.format(question=query, context=context).strip()\n",
    "    return prompt"
   ]
  },
  {
   "cell_type": "code",
   "execution_count": 69,
   "id": "de111a27-4f59-4727-8680-7856c90ffd72",
   "metadata": {},
   "outputs": [],
   "source": [
    "def llm(prompt, model='gpt-4o-mini'):\n",
    "    response = client.chat.completions.create(\n",
    "        model=model,\n",
    "        messages=[{\"role\": \"user\", \"content\": prompt}]\n",
    "    )\n",
    "    \n",
    "    return response.choices[0].message.content"
   ]
  },
  {
   "cell_type": "code",
   "execution_count": 70,
   "id": "929696b6-f696-4664-b04e-43dde440914a",
   "metadata": {},
   "outputs": [],
   "source": [
    "def rag(query, model='gpt-4o-mini'):\n",
    "    q_v = model_encode.encode(query)\n",
    "    search_results = elastic_search_hybrid(\"name_vector\",query, q_v)\n",
    "    prompt = build_prompt(query, search_results)\n",
    "    #print(prompt)\n",
    "    answer = llm(prompt, model=model)\n",
    "    return answer"
   ]
  },
  {
   "cell_type": "code",
   "execution_count": 71,
   "id": "9fd98029-cb39-4302-9573-788483220e95",
   "metadata": {},
   "outputs": [
    {
     "name": "stdout",
     "output_type": "stream",
     "text": [
      "With a budget of $30, you can order the following Thai food options:\n",
      "\n",
      "1. **Pad Thai** - $14.00\n",
      "2. **Tom Yum Soup** - $11.00\n",
      "3. **Chicken Satay** - $8.00\n",
      "\n",
      "Total: $33.00 (you can choose two options to stay within $30)\n",
      "\n",
      "Alternatively, you can choose:\n",
      "\n",
      "1. **Chicken Pad See Ew** - $13.50\n",
      "2. **Tom Yum Soup** - $11.00\n",
      "3. **Chicken Satay** - $8.00 \n",
      "\n",
      "This total is also $32.50 (again, you'll need to pick two of them to stay within your budget). \n",
      "\n",
      "A good combination could be:\n",
      "- **Pad Thai** - $14.00\n",
      "- **Chicken Satay** - $8.00 \n",
      "\n",
      "Total: $22.00\n",
      "\n",
      "This leaves you with some extra budget. You can choose the **Tom Yum Soup** as well, or just enjoy the two.\n"
     ]
    }
   ],
   "source": [
    "question = \"I just have 30$ can you suggest me some Thai lan food?\"\n",
    "answer = rag(question)\n",
    "print(answer)"
   ]
  },
  {
   "cell_type": "markdown",
   "id": "585e8189",
   "metadata": {},
   "source": [
    "## Retrieval Evaluation"
   ]
  },
  {
   "cell_type": "code",
   "execution_count": 76,
   "id": "abdd7c25-3119-4b23-a6b2-66603e1a5d94",
   "metadata": {},
   "outputs": [],
   "source": [
    "df_question = pd.read_csv('../data/ground-truth-retrieval.csv')"
   ]
  },
  {
   "cell_type": "code",
   "execution_count": 77,
   "id": "2e001af2-87f1-47b5-826f-96a4fa3cb1cf",
   "metadata": {},
   "outputs": [
    {
     "data": {
      "text/html": [
       "<div>\n",
       "<style scoped>\n",
       "    .dataframe tbody tr th:only-of-type {\n",
       "        vertical-align: middle;\n",
       "    }\n",
       "\n",
       "    .dataframe tbody tr th {\n",
       "        vertical-align: top;\n",
       "    }\n",
       "\n",
       "    .dataframe thead th {\n",
       "        text-align: right;\n",
       "    }\n",
       "</style>\n",
       "<table border=\"1\" class=\"dataframe\">\n",
       "  <thead>\n",
       "    <tr style=\"text-align: right;\">\n",
       "      <th></th>\n",
       "      <th>id</th>\n",
       "      <th>question</th>\n",
       "    </tr>\n",
       "  </thead>\n",
       "  <tbody>\n",
       "    <tr>\n",
       "      <th>0</th>\n",
       "      <td>0</td>\n",
       "      <td>What type of cuisine is Margherita Pizza class...</td>\n",
       "    </tr>\n",
       "    <tr>\n",
       "      <th>1</th>\n",
       "      <td>0</td>\n",
       "      <td>How many calories does one slice of Margherita...</td>\n",
       "    </tr>\n",
       "    <tr>\n",
       "      <th>2</th>\n",
       "      <td>0</td>\n",
       "      <td>What are the main ingredients found in Margher...</td>\n",
       "    </tr>\n",
       "    <tr>\n",
       "      <th>3</th>\n",
       "      <td>0</td>\n",
       "      <td>How much does one slice of Margherita Pizza cost?</td>\n",
       "    </tr>\n",
       "    <tr>\n",
       "      <th>4</th>\n",
       "      <td>0</td>\n",
       "      <td>What type of dish is Margherita Pizza considered?</td>\n",
       "    </tr>\n",
       "  </tbody>\n",
       "</table>\n",
       "</div>"
      ],
      "text/plain": [
       "   id                                           question\n",
       "0   0  What type of cuisine is Margherita Pizza class...\n",
       "1   0  How many calories does one slice of Margherita...\n",
       "2   0  What are the main ingredients found in Margher...\n",
       "3   0  How much does one slice of Margherita Pizza cost?\n",
       "4   0  What type of dish is Margherita Pizza considered?"
      ]
     },
     "execution_count": 77,
     "metadata": {},
     "output_type": "execute_result"
    }
   ],
   "source": [
    "df_question.head()"
   ]
  },
  {
   "cell_type": "code",
   "execution_count": 78,
   "id": "feac0fbc-f786-455e-9a8c-f1759daae5db",
   "metadata": {},
   "outputs": [],
   "source": [
    "ground_truth = df_question.to_dict(orient='records')"
   ]
  },
  {
   "cell_type": "code",
   "execution_count": 79,
   "id": "974345eb-17b7-42e6-80e9-847e771dffc4",
   "metadata": {},
   "outputs": [
    {
     "data": {
      "text/plain": [
       "{'id': 0,\n",
       " 'question': 'What type of cuisine is Margherita Pizza classified under?'}"
      ]
     },
     "execution_count": 79,
     "metadata": {},
     "output_type": "execute_result"
    }
   ],
   "source": [
    "ground_truth[0]"
   ]
  },
  {
   "cell_type": "code",
   "execution_count": 80,
   "id": "8fbfdc60-0d1f-4819-8783-31d6509fac1a",
   "metadata": {},
   "outputs": [],
   "source": [
    "def hit_rate(relevance_total):\n",
    "    cnt = 0\n",
    "\n",
    "    for line in relevance_total:\n",
    "        if True in line:\n",
    "            cnt = cnt + 1\n",
    "\n",
    "    return cnt / len(relevance_total)\n",
    "\n",
    "def mrr(relevance_total):\n",
    "    total_score = 0.0\n",
    "\n",
    "    for line in relevance_total:\n",
    "        for rank in range(len(line)):\n",
    "            if line[rank] == True:\n",
    "                total_score = total_score + 1 / (rank + 1)\n",
    "\n",
    "    return total_score / len(relevance_total)"
   ]
  },
  {
   "cell_type": "code",
   "execution_count": 36,
   "id": "6f0733c0-a866-4d43-ac89-45e9930f4608",
   "metadata": {},
   "outputs": [],
   "source": [
    "def minsearch_search(query):\n",
    "    boost = {}\n",
    "\n",
    "    results = index.search(\n",
    "        query=query,\n",
    "        filter_dict={},\n",
    "        boost_dict=boost,\n",
    "        num_results=10\n",
    "    )\n",
    "\n",
    "    return results"
   ]
  },
  {
   "cell_type": "code",
   "execution_count": 81,
   "id": "ca79fdbd-4206-42a8-b932-cdc278239fed",
   "metadata": {},
   "outputs": [],
   "source": [
    "def evaluate(ground_truth, search_function):\n",
    "    relevance_total = []\n",
    "\n",
    "    for q in tqdm(ground_truth):\n",
    "        doc_id = q['id']\n",
    "        results = search_function(q)\n",
    "        relevance = [d['id'] == doc_id for d in results]\n",
    "        relevance_total.append(relevance)\n",
    "\n",
    "    return {\n",
    "        'hit_rate': hit_rate(relevance_total),\n",
    "        'mrr': mrr(relevance_total),\n",
    "    }"
   ]
  },
  {
   "cell_type": "code",
   "execution_count": 82,
   "id": "709cfb23-8e62-4bc1-a222-7cc4c4737410",
   "metadata": {},
   "outputs": [],
   "source": [
    "from tqdm.auto import tqdm"
   ]
  },
  {
   "cell_type": "code",
   "execution_count": 39,
   "id": "e130a823-584c-4571-b255-0dbb161495c5",
   "metadata": {},
   "outputs": [
    {
     "data": {
      "application/vnd.jupyter.widget-view+json": {
       "model_id": "187a0be756a24e19ba9f08f3ab415231",
       "version_major": 2,
       "version_minor": 0
      },
      "text/plain": [
       "  0%|          | 0/500 [00:00<?, ?it/s]"
      ]
     },
     "metadata": {},
     "output_type": "display_data"
    },
    {
     "data": {
      "text/plain": [
       "{'hit_rate': 0.942, 'mrr': 0.8820936507936509}"
      ]
     },
     "execution_count": 39,
     "metadata": {},
     "output_type": "execute_result"
    }
   ],
   "source": [
    "evaluate(ground_truth, lambda q: minsearch_search(q['question']))"
   ]
  },
  {
   "cell_type": "markdown",
   "id": "40e2491e-a33d-429a-9aa6-356c7808f16c",
   "metadata": {},
   "source": [
    "## Finding the best paramater"
   ]
  },
  {
   "cell_type": "code",
   "execution_count": 40,
   "id": "d45399e7-2a07-439f-84bf-1dd14077a093",
   "metadata": {},
   "outputs": [],
   "source": [
    "df_validation = df_question[:50]\n",
    "df_test = df_question[50:]"
   ]
  },
  {
   "cell_type": "code",
   "execution_count": 41,
   "id": "6bbc61bd-0e01-4a6f-b0cb-77bf2d2304d7",
   "metadata": {},
   "outputs": [],
   "source": [
    "import random\n",
    "\n",
    "def simple_optimize(param_ranges, objective_function, n_iterations=10):\n",
    "    best_params = None\n",
    "    best_score = float('-inf')  # Assuming we're minimizing. Use float('-inf') if maximizing.\n",
    "\n",
    "    for _ in range(n_iterations):\n",
    "        # Generate random parameters\n",
    "        current_params = {}\n",
    "        for param, (min_val, max_val) in param_ranges.items():\n",
    "            if isinstance(min_val, int) and isinstance(max_val, int):\n",
    "                current_params[param] = random.randint(min_val, max_val)\n",
    "            else:\n",
    "                current_params[param] = random.uniform(min_val, max_val)\n",
    "        \n",
    "        # Evaluate the objective function\n",
    "        current_score = objective_function(current_params)\n",
    "        \n",
    "        # Update best if current is better\n",
    "        if current_score > best_score:  # Change to > if maximizing\n",
    "            best_score = current_score\n",
    "            best_params = current_params\n",
    "    \n",
    "    return best_params, best_score"
   ]
  },
  {
   "cell_type": "code",
   "execution_count": 42,
   "id": "37e53480-e8fd-40fd-a074-88c70c99a02e",
   "metadata": {},
   "outputs": [],
   "source": [
    "gt_val = df_validation.to_dict(orient='records')"
   ]
  },
  {
   "cell_type": "code",
   "execution_count": 43,
   "id": "132d09e5-b334-46cd-82dc-b6ea4c84dd84",
   "metadata": {},
   "outputs": [],
   "source": [
    "def minsearch_search(query, boost=None):\n",
    "    if boost is None:\n",
    "        boost = {}\n",
    "\n",
    "    results = index.search(\n",
    "        query=query,\n",
    "        filter_dict={},\n",
    "        boost_dict=boost,\n",
    "        num_results=10\n",
    "    )\n",
    "\n",
    "    return results"
   ]
  },
  {
   "cell_type": "code",
   "execution_count": 44,
   "id": "3edf75f1-8e2b-4661-a205-12b6a5027428",
   "metadata": {},
   "outputs": [],
   "source": [
    "param_ranges = {\n",
    "    'name': (0.0, 3.0),\n",
    "    'cuisine': (0.0, 3.0),\n",
    "    'type': (0.0, 3.0),\n",
    "    'ingredients': (0.0, 3.0),\n",
    "    'serving': (0.0, 3.0),\n",
    "    'price': (0.0, 3.0),\n",
    "    'calories': (0.0, 3.0),\n",
    "}\n",
    "\n",
    "def objective(boost_params):\n",
    "    def search_function(q):\n",
    "        return minsearch_search(q['question'], boost_params)\n",
    "\n",
    "    results = evaluate(gt_val, search_function)\n",
    "    return results['mrr']"
   ]
  },
  {
   "cell_type": "code",
   "execution_count": 45,
   "id": "e6b59101-96e0-4fb6-b19c-78ba734233d2",
   "metadata": {},
   "outputs": [
    {
     "data": {
      "application/vnd.jupyter.widget-view+json": {
       "model_id": "49217959fc164330824b3fe8f7d48985",
       "version_major": 2,
       "version_minor": 0
      },
      "text/plain": [
       "  0%|          | 0/50 [00:00<?, ?it/s]"
      ]
     },
     "metadata": {},
     "output_type": "display_data"
    },
    {
     "data": {
      "application/vnd.jupyter.widget-view+json": {
       "model_id": "b144aa060dc24690bfff6d0665da26a8",
       "version_major": 2,
       "version_minor": 0
      },
      "text/plain": [
       "  0%|          | 0/50 [00:00<?, ?it/s]"
      ]
     },
     "metadata": {},
     "output_type": "display_data"
    },
    {
     "data": {
      "application/vnd.jupyter.widget-view+json": {
       "model_id": "4baa59f079974c0ca17aca2c5a44a8ea",
       "version_major": 2,
       "version_minor": 0
      },
      "text/plain": [
       "  0%|          | 0/50 [00:00<?, ?it/s]"
      ]
     },
     "metadata": {},
     "output_type": "display_data"
    },
    {
     "data": {
      "application/vnd.jupyter.widget-view+json": {
       "model_id": "fc8f9d2b26fa4ae1b7d68cb8f226e97b",
       "version_major": 2,
       "version_minor": 0
      },
      "text/plain": [
       "  0%|          | 0/50 [00:00<?, ?it/s]"
      ]
     },
     "metadata": {},
     "output_type": "display_data"
    },
    {
     "data": {
      "application/vnd.jupyter.widget-view+json": {
       "model_id": "5abdc1c068e14903a4c2a945142a9e1e",
       "version_major": 2,
       "version_minor": 0
      },
      "text/plain": [
       "  0%|          | 0/50 [00:00<?, ?it/s]"
      ]
     },
     "metadata": {},
     "output_type": "display_data"
    },
    {
     "data": {
      "application/vnd.jupyter.widget-view+json": {
       "model_id": "72e457f0028a4afd82f9182c680ed7b1",
       "version_major": 2,
       "version_minor": 0
      },
      "text/plain": [
       "  0%|          | 0/50 [00:00<?, ?it/s]"
      ]
     },
     "metadata": {},
     "output_type": "display_data"
    },
    {
     "data": {
      "application/vnd.jupyter.widget-view+json": {
       "model_id": "7356353641db4ceaaecf5714af9e3a88",
       "version_major": 2,
       "version_minor": 0
      },
      "text/plain": [
       "  0%|          | 0/50 [00:00<?, ?it/s]"
      ]
     },
     "metadata": {},
     "output_type": "display_data"
    },
    {
     "data": {
      "application/vnd.jupyter.widget-view+json": {
       "model_id": "f522a648202c4ce5a2ac231c4bd051e4",
       "version_major": 2,
       "version_minor": 0
      },
      "text/plain": [
       "  0%|          | 0/50 [00:00<?, ?it/s]"
      ]
     },
     "metadata": {},
     "output_type": "display_data"
    },
    {
     "data": {
      "application/vnd.jupyter.widget-view+json": {
       "model_id": "fb74f702652a47279af7240c0e7d061e",
       "version_major": 2,
       "version_minor": 0
      },
      "text/plain": [
       "  0%|          | 0/50 [00:00<?, ?it/s]"
      ]
     },
     "metadata": {},
     "output_type": "display_data"
    },
    {
     "data": {
      "application/vnd.jupyter.widget-view+json": {
       "model_id": "8bf7fb017c6f4e668d3b39c0e0687673",
       "version_major": 2,
       "version_minor": 0
      },
      "text/plain": [
       "  0%|          | 0/50 [00:00<?, ?it/s]"
      ]
     },
     "metadata": {},
     "output_type": "display_data"
    },
    {
     "data": {
      "application/vnd.jupyter.widget-view+json": {
       "model_id": "20c3b7738a3d4b1890adbbca128d0fc5",
       "version_major": 2,
       "version_minor": 0
      },
      "text/plain": [
       "  0%|          | 0/50 [00:00<?, ?it/s]"
      ]
     },
     "metadata": {},
     "output_type": "display_data"
    },
    {
     "data": {
      "application/vnd.jupyter.widget-view+json": {
       "model_id": "2d4c7ec07d10409aa6926cd5fb9cc36a",
       "version_major": 2,
       "version_minor": 0
      },
      "text/plain": [
       "  0%|          | 0/50 [00:00<?, ?it/s]"
      ]
     },
     "metadata": {},
     "output_type": "display_data"
    },
    {
     "data": {
      "application/vnd.jupyter.widget-view+json": {
       "model_id": "3f2fb9ab67ae44288635229f68e9dec9",
       "version_major": 2,
       "version_minor": 0
      },
      "text/plain": [
       "  0%|          | 0/50 [00:00<?, ?it/s]"
      ]
     },
     "metadata": {},
     "output_type": "display_data"
    },
    {
     "data": {
      "application/vnd.jupyter.widget-view+json": {
       "model_id": "d8b0b06469884c5d8e3ae3e15f28bcf2",
       "version_major": 2,
       "version_minor": 0
      },
      "text/plain": [
       "  0%|          | 0/50 [00:00<?, ?it/s]"
      ]
     },
     "metadata": {},
     "output_type": "display_data"
    },
    {
     "data": {
      "application/vnd.jupyter.widget-view+json": {
       "model_id": "755736e0e4124822880d6380b16d4404",
       "version_major": 2,
       "version_minor": 0
      },
      "text/plain": [
       "  0%|          | 0/50 [00:00<?, ?it/s]"
      ]
     },
     "metadata": {},
     "output_type": "display_data"
    },
    {
     "data": {
      "application/vnd.jupyter.widget-view+json": {
       "model_id": "6a0401f2a47843ac9de18a0c7fbefab4",
       "version_major": 2,
       "version_minor": 0
      },
      "text/plain": [
       "  0%|          | 0/50 [00:00<?, ?it/s]"
      ]
     },
     "metadata": {},
     "output_type": "display_data"
    },
    {
     "data": {
      "application/vnd.jupyter.widget-view+json": {
       "model_id": "fb49d008e0f74f5c810f224b0882cfe6",
       "version_major": 2,
       "version_minor": 0
      },
      "text/plain": [
       "  0%|          | 0/50 [00:00<?, ?it/s]"
      ]
     },
     "metadata": {},
     "output_type": "display_data"
    },
    {
     "data": {
      "application/vnd.jupyter.widget-view+json": {
       "model_id": "2f9f9c83242243a8ab27e09eeeda6faa",
       "version_major": 2,
       "version_minor": 0
      },
      "text/plain": [
       "  0%|          | 0/50 [00:00<?, ?it/s]"
      ]
     },
     "metadata": {},
     "output_type": "display_data"
    },
    {
     "data": {
      "application/vnd.jupyter.widget-view+json": {
       "model_id": "07d21a67a58e44988434211b0464a021",
       "version_major": 2,
       "version_minor": 0
      },
      "text/plain": [
       "  0%|          | 0/50 [00:00<?, ?it/s]"
      ]
     },
     "metadata": {},
     "output_type": "display_data"
    },
    {
     "data": {
      "application/vnd.jupyter.widget-view+json": {
       "model_id": "f22dae9a977b42bc9ae79c5c27341198",
       "version_major": 2,
       "version_minor": 0
      },
      "text/plain": [
       "  0%|          | 0/50 [00:00<?, ?it/s]"
      ]
     },
     "metadata": {},
     "output_type": "display_data"
    },
    {
     "data": {
      "text/plain": [
       "({'name': 1.6469746098249833,\n",
       "  'cuisine': 1.842003371513142,\n",
       "  'type': 1.6343882591625838,\n",
       "  'ingredients': 2.8659431246768454,\n",
       "  'serving': 0.9517295732734925,\n",
       "  'price': 1.3677454527668251,\n",
       "  'calories': 0.2320056428390671},\n",
       " 0.94)"
      ]
     },
     "execution_count": 45,
     "metadata": {},
     "output_type": "execute_result"
    }
   ],
   "source": [
    "simple_optimize(param_ranges, objective, n_iterations=20)"
   ]
  },
  {
   "cell_type": "code",
   "execution_count": 46,
   "id": "aae77291-5a5d-4b7b-8937-ad2176fe7bd4",
   "metadata": {},
   "outputs": [],
   "source": [
    "def minsearch_improved(query):\n",
    "    boost = {\n",
    "      'name': 1.65,\n",
    "      'cuisine': 1.84,\n",
    "      'type': 1.63,\n",
    "      'ingredients': 2.87,\n",
    "      'serving': 0.95,\n",
    "      'price': 1.37,\n",
    "      'calories': 0.23\n",
    "    }\n",
    "\n",
    "    results = index.search(\n",
    "        query=query,\n",
    "        filter_dict={},\n",
    "        boost_dict=boost,\n",
    "        num_results=10\n",
    "    )\n",
    "\n",
    "    return results"
   ]
  },
  {
   "cell_type": "code",
   "execution_count": 47,
   "id": "94832d3d-6af6-49ab-a930-40269f432c72",
   "metadata": {},
   "outputs": [
    {
     "data": {
      "application/vnd.jupyter.widget-view+json": {
       "model_id": "753ba336fea04ab395cd97c34ac3348a",
       "version_major": 2,
       "version_minor": 0
      },
      "text/plain": [
       "  0%|          | 0/500 [00:00<?, ?it/s]"
      ]
     },
     "metadata": {},
     "output_type": "display_data"
    },
    {
     "data": {
      "text/plain": [
       "{'hit_rate': 0.946, 'mrr': 0.8921103174603174}"
      ]
     },
     "execution_count": 47,
     "metadata": {},
     "output_type": "execute_result"
    }
   ],
   "source": [
    "evaluate(ground_truth, lambda q: minsearch_improved(q['question']))"
   ]
  },
  {
   "cell_type": "markdown",
   "id": "c66db99f-3097-4911-bbb8-b55d9708eefa",
   "metadata": {},
   "source": [
    "### Hybrid search"
   ]
  },
  {
   "cell_type": "markdown",
   "id": "3fa3a597-afc0-4ab5-b85e-460c2bf77227",
   "metadata": {},
   "source": [
    "Remember run code index data to elastic search above  "
   ]
  },
  {
   "cell_type": "code",
   "execution_count": 73,
   "id": "1baab0e6-6395-4c32-ae5a-6ef107f6393d",
   "metadata": {},
   "outputs": [
    {
     "name": "stderr",
     "output_type": "stream",
     "text": [
      "/home/inspirelab_ai/.local/share/virtualenvs/food_order_assistant-gsGJeafc/lib/python3.11/site-packages/transformers/tokenization_utils_base.py:1617: FutureWarning: `clean_up_tokenization_spaces` was not set. It will be set to `True` by default. This behavior will be deprecated in transformers v4.45, and will be then set to `False` by default. For more details check this issue: https://github.com/huggingface/transformers/issues/31884\n",
      "  warnings.warn(\n"
     ]
    }
   ],
   "source": [
    "from sentence_transformers import SentenceTransformer\n",
    "\n",
    "model_name = 'multi-qa-MiniLM-L6-cos-v1'\n",
    "model_encode = SentenceTransformer(model_name)"
   ]
  },
  {
   "cell_type": "code",
   "execution_count": 74,
   "id": "e9b0f23a-4cf2-4dd7-a4dd-5e8d4add402d",
   "metadata": {},
   "outputs": [
    {
     "data": {
      "text/plain": [
       "ObjectApiResponse({'name': '066f25e3c1ab', 'cluster_name': 'docker-cluster', 'cluster_uuid': 'Bme0iDDQQOquu6TdrHG_JQ', 'version': {'number': '8.4.3', 'build_flavor': 'default', 'build_type': 'docker', 'build_hash': '42f05b9372a9a4a470db3b52817899b99a76ee73', 'build_date': '2022-10-04T07:17:24.662462378Z', 'build_snapshot': False, 'lucene_version': '9.3.0', 'minimum_wire_compatibility_version': '7.17.0', 'minimum_index_compatibility_version': '7.0.0'}, 'tagline': 'You Know, for Search'})"
      ]
     },
     "execution_count": 74,
     "metadata": {},
     "output_type": "execute_result"
    }
   ],
   "source": [
    "from elasticsearch import Elasticsearch\n",
    "es_client = Elasticsearch('http://localhost:9200') \n",
    "\n",
    "es_client.info()"
   ]
  },
  {
   "cell_type": "code",
   "execution_count": 75,
   "id": "593a8550-fb7d-4b1e-9bb8-fadd78c1f52a",
   "metadata": {},
   "outputs": [],
   "source": [
    "def elastic_search_hybrid(field, query, vector):\n",
    "    knn_query = {\n",
    "        \"field\": field,\n",
    "        \"query_vector\": vector,\n",
    "        \"k\": 10,\n",
    "        \"num_candidates\": 10000,\n",
    "        \"boost\": 0.5\n",
    "    }\n",
    "\n",
    "    keyword_query = {\n",
    "        \"bool\": {\n",
    "            \"must\": {\n",
    "                \"multi_match\": {\n",
    "                    \"query\": query,\n",
    "                    \"fields\": [\"name\", \"cuisine\", \"type\", \"ingredients\", \"serving\", \"price\", \"calories\"],\n",
    "                    \"type\": \"best_fields\",\n",
    "                    \"boost\": 0.5,\n",
    "                }\n",
    "            }\n",
    "        }\n",
    "    }\n",
    "\n",
    "    search_query = {\n",
    "        \"knn\": knn_query,\n",
    "        \"query\": keyword_query,\n",
    "        \"size\": 10,\n",
    "        \"_source\": [\"name\", \"cuisine\", \"type\", \"ingredients\", \"serving\", \"price\", \"calories\", \"id\"]\n",
    "    }\n",
    "\n",
    "    es_results = es_client.search(\n",
    "        index=index_name,\n",
    "        body=search_query\n",
    "    )\n",
    "    \n",
    "    result_docs = []\n",
    "    \n",
    "    for hit in es_results['hits']['hits']:\n",
    "        result_docs.append(hit['_source'])\n",
    "\n",
    "    return result_docs"
   ]
  },
  {
   "cell_type": "code",
   "execution_count": 89,
   "id": "94931b10-8f51-48e5-8834-073429e0a1fb",
   "metadata": {},
   "outputs": [],
   "source": [
    "def evaluate_elastic(ground_truth, search_function):\n",
    "    relevance_total = []\n",
    "\n",
    "    for q in tqdm(ground_truth):\n",
    "        doc_id = q['id']\n",
    "       \n",
    "        results = search_function(q)\n",
    "        relevance = [d['id'] == doc_id for d in results]\n",
    "        relevance_total.append(relevance)\n",
    "\n",
    "    return {\n",
    "        'hit_rate': hit_rate(relevance_total),\n",
    "        'mrr': mrr(relevance_total),\n",
    "    }"
   ]
  },
  {
   "cell_type": "code",
   "execution_count": 102,
   "id": "6c140b21-a911-4e53-a6fd-ade1aa78487c",
   "metadata": {},
   "outputs": [],
   "source": [
    "def question_hybrid(q):\n",
    "    question = q\n",
    "\n",
    "    v_q = model.encode(question)\n",
    "\n",
    "    return elastic_search_hybrid('name_vector', question, v_q)"
   ]
  },
  {
   "cell_type": "code",
   "execution_count": 103,
   "id": "0da9922a-a401-4036-aba7-df0406b3b57c",
   "metadata": {},
   "outputs": [
    {
     "data": {
      "application/vnd.jupyter.widget-view+json": {
       "model_id": "412407efdbbd4c12bd5f46dd2b8e263f",
       "version_major": 2,
       "version_minor": 0
      },
      "text/plain": [
       "  0%|          | 0/500 [00:00<?, ?it/s]"
      ]
     },
     "metadata": {},
     "output_type": "display_data"
    },
    {
     "data": {
      "text/plain": [
       "{'hit_rate': 0.946, 'mrr': 0.9135801587301586}"
      ]
     },
     "execution_count": 103,
     "metadata": {},
     "output_type": "execute_result"
    }
   ],
   "source": [
    "evaluate_elastic(ground_truth, lambda q: question_hybrid(q['question']))"
   ]
  },
  {
   "cell_type": "markdown",
   "id": "9e4aaa3d-e0b3-48b7-ae42-68cba232e7a3",
   "metadata": {},
   "source": [
    "## RAG evaluation"
   ]
  },
  {
   "cell_type": "code",
   "execution_count": 48,
   "id": "9c749c18-452c-41ec-b7dc-bd2a0d6df8b5",
   "metadata": {},
   "outputs": [],
   "source": [
    "prompt2_template = \"\"\"\n",
    "You are an expert evaluator for a RAG system.\n",
    "Your task is to analyze the relevance of the generated answer to the given question.\n",
    "Based on the relevance of the generated answer, you will classify it\n",
    "as \"NON_RELEVANT\", \"PARTLY_RELEVANT\", or \"RELEVANT\".\n",
    "\n",
    "Here is the data for evaluation:\n",
    "\n",
    "Question: {question}\n",
    "Generated Answer: {answer_llm}\n",
    "\n",
    "Please analyze the content and context of the generated answer in relation to the question\n",
    "and provide your evaluation in parsable JSON without using code blocks:\n",
    "\n",
    "{{\n",
    "  \"Relevance\": \"NON_RELEVANT\" | \"PARTLY_RELEVANT\" | \"RELEVANT\",\n",
    "  \"Explanation\": \"[Provide a brief explanation for your evaluation]\"\n",
    "}}\n",
    "\"\"\".strip()"
   ]
  },
  {
   "cell_type": "code",
   "execution_count": 49,
   "id": "f51640a2-7340-456a-9dc1-2f89f6189c99",
   "metadata": {},
   "outputs": [
    {
     "data": {
      "text/plain": [
       "500"
      ]
     },
     "execution_count": 49,
     "metadata": {},
     "output_type": "execute_result"
    }
   ],
   "source": [
    "len(ground_truth)"
   ]
  },
  {
   "cell_type": "code",
   "execution_count": 50,
   "id": "5468a308-39f0-49b9-92e0-41b6a612be00",
   "metadata": {},
   "outputs": [],
   "source": [
    "record = ground_truth[0]"
   ]
  },
  {
   "cell_type": "code",
   "execution_count": 51,
   "id": "80c79ec6-87c2-4cf0-8fc2-bd7897d66c7d",
   "metadata": {},
   "outputs": [],
   "source": [
    "import json"
   ]
  },
  {
   "cell_type": "code",
   "execution_count": 55,
   "id": "8fba4b39-e7c9-488c-bc24-0c41c1655921",
   "metadata": {},
   "outputs": [],
   "source": [
    "df_sample = df_question.sample(n=100, random_state=1)"
   ]
  },
  {
   "cell_type": "code",
   "execution_count": 56,
   "id": "b948f430-ec99-42b0-a766-7f845e398155",
   "metadata": {},
   "outputs": [],
   "source": [
    "sample = df_sample.to_dict(orient='records')"
   ]
  },
  {
   "cell_type": "code",
   "execution_count": 57,
   "id": "8055b871-e17c-46aa-a040-5abfae830c44",
   "metadata": {},
   "outputs": [
    {
     "data": {
      "application/vnd.jupyter.widget-view+json": {
       "model_id": "ec3e07e8b09a4f52a1faec6ae6322115",
       "version_major": 2,
       "version_minor": 0
      },
      "text/plain": [
       "  0%|          | 0/100 [00:00<?, ?it/s]"
      ]
     },
     "metadata": {},
     "output_type": "display_data"
    }
   ],
   "source": [
    "evaluations = []\n",
    "\n",
    "for record in tqdm(sample):\n",
    "    question = record['question']\n",
    "    answer_llm = rag(question) \n",
    "\n",
    "    prompt = prompt2_template.format(\n",
    "        question=question,\n",
    "        answer_llm=answer_llm\n",
    "    )\n",
    "\n",
    "    evaluation = llm(prompt)\n",
    "    evaluation = json.loads(evaluation)\n",
    "\n",
    "    evaluations.append((record, answer_llm, evaluation))"
   ]
  },
  {
   "cell_type": "code",
   "execution_count": 58,
   "id": "b6101c7f-909c-4188-aad1-06f6fdc8e6e9",
   "metadata": {},
   "outputs": [],
   "source": [
    "df_eval = pd.DataFrame(evaluations, columns=['record', 'answer', 'evaluation'])\n",
    "\n",
    "df_eval['id'] = df_eval.record.apply(lambda d: d['id'])\n",
    "df_eval['question'] = df_eval.record.apply(lambda d: d['question'])\n",
    "\n",
    "df_eval['relevance'] = df_eval.evaluation.apply(lambda d: d['Relevance'])\n",
    "df_eval['explanation'] = df_eval.evaluation.apply(lambda d: d['Explanation'])\n",
    "\n",
    "del df_eval['record']\n",
    "del df_eval['evaluation']"
   ]
  },
  {
   "cell_type": "code",
   "execution_count": 59,
   "id": "7766f1ed-20d5-4630-9761-3fcd9b066dbc",
   "metadata": {},
   "outputs": [
    {
     "data": {
      "text/plain": [
       "relevance\n",
       "RELEVANT           0.92\n",
       "PARTLY_RELEVANT    0.07\n",
       "NON_RELEVANT       0.01\n",
       "Name: proportion, dtype: float64"
      ]
     },
     "execution_count": 59,
     "metadata": {},
     "output_type": "execute_result"
    }
   ],
   "source": [
    "df_eval.relevance.value_counts(normalize=True)"
   ]
  },
  {
   "cell_type": "code",
   "execution_count": 60,
   "id": "c604607a-a00b-466d-bfa7-5ca8b1fd8fab",
   "metadata": {},
   "outputs": [],
   "source": [
    "df_eval.to_csv('../data/rag-eval-gpt-4o-mini.csv', index=False)"
   ]
  },
  {
   "cell_type": "code",
   "execution_count": 61,
   "id": "6c1dc0ba-529d-4ca2-8a7f-a22d5b7e7a66",
   "metadata": {},
   "outputs": [
    {
     "data": {
      "text/html": [
       "<div>\n",
       "<style scoped>\n",
       "    .dataframe tbody tr th:only-of-type {\n",
       "        vertical-align: middle;\n",
       "    }\n",
       "\n",
       "    .dataframe tbody tr th {\n",
       "        vertical-align: top;\n",
       "    }\n",
       "\n",
       "    .dataframe thead th {\n",
       "        text-align: right;\n",
       "    }\n",
       "</style>\n",
       "<table border=\"1\" class=\"dataframe\">\n",
       "  <thead>\n",
       "    <tr style=\"text-align: right;\">\n",
       "      <th></th>\n",
       "      <th>answer</th>\n",
       "      <th>id</th>\n",
       "      <th>question</th>\n",
       "      <th>relevance</th>\n",
       "      <th>explanation</th>\n",
       "    </tr>\n",
       "  </thead>\n",
       "  <tbody>\n",
       "    <tr>\n",
       "      <th>12</th>\n",
       "      <td>The Avocado Toast serves 1 slice.</td>\n",
       "      <td>23</td>\n",
       "      <td>How many slices does the Avocado Toast serve?</td>\n",
       "      <td>NON_RELEVANT</td>\n",
       "      <td>The question asks how many slices the Avocado ...</td>\n",
       "    </tr>\n",
       "  </tbody>\n",
       "</table>\n",
       "</div>"
      ],
      "text/plain": [
       "                               answer  id  \\\n",
       "12  The Avocado Toast serves 1 slice.  23   \n",
       "\n",
       "                                         question     relevance  \\\n",
       "12  How many slices does the Avocado Toast serve?  NON_RELEVANT   \n",
       "\n",
       "                                          explanation  \n",
       "12  The question asks how many slices the Avocado ...  "
      ]
     },
     "execution_count": 61,
     "metadata": {},
     "output_type": "execute_result"
    }
   ],
   "source": [
    "df_eval[df_eval.relevance == 'NON_RELEVANT']"
   ]
  },
  {
   "cell_type": "code",
   "execution_count": 62,
   "id": "3e0f250b-6f4c-4b7a-b1d1-6f06138a8545",
   "metadata": {},
   "outputs": [
    {
     "data": {
      "application/vnd.jupyter.widget-view+json": {
       "model_id": "fe7b2b8e2de04ffa8ba5b9713f212461",
       "version_major": 2,
       "version_minor": 0
      },
      "text/plain": [
       "  0%|          | 0/100 [00:00<?, ?it/s]"
      ]
     },
     "metadata": {},
     "output_type": "display_data"
    }
   ],
   "source": [
    "evaluations_gpt4o = []\n",
    "\n",
    "for record in tqdm(sample):\n",
    "    question = record['question']\n",
    "    answer_llm = rag(question, model='gpt-4o') \n",
    "\n",
    "    prompt = prompt2_template.format(\n",
    "        question=question,\n",
    "        answer_llm=answer_llm\n",
    "    )\n",
    "\n",
    "    evaluation = llm(prompt)\n",
    "    evaluation = json.loads(evaluation)\n",
    "    \n",
    "    evaluations_gpt4o.append((record, answer_llm, evaluation))"
   ]
  },
  {
   "cell_type": "code",
   "execution_count": 63,
   "id": "1cd75cd1-9222-4113-89c0-91860634bbab",
   "metadata": {},
   "outputs": [],
   "source": [
    "df_eval = pd.DataFrame(evaluations_gpt4o, columns=['record', 'answer', 'evaluation'])\n",
    "\n",
    "df_eval['id'] = df_eval.record.apply(lambda d: d['id'])\n",
    "df_eval['question'] = df_eval.record.apply(lambda d: d['question'])\n",
    "\n",
    "df_eval['relevance'] = df_eval.evaluation.apply(lambda d: d['Relevance'])\n",
    "df_eval['explanation'] = df_eval.evaluation.apply(lambda d: d['Explanation'])\n",
    "\n",
    "del df_eval['record']\n",
    "del df_eval['evaluation']"
   ]
  },
  {
   "cell_type": "code",
   "execution_count": 64,
   "id": "cf47f7c1-1979-4e4a-9963-27003db18113",
   "metadata": {},
   "outputs": [
    {
     "data": {
      "text/plain": [
       "relevance\n",
       "RELEVANT           93\n",
       "PARTLY_RELEVANT     7\n",
       "Name: count, dtype: int64"
      ]
     },
     "execution_count": 64,
     "metadata": {},
     "output_type": "execute_result"
    }
   ],
   "source": [
    "df_eval.relevance.value_counts()"
   ]
  },
  {
   "cell_type": "code",
   "execution_count": 65,
   "id": "3f48ce96-dd14-4ce6-8a92-1bd75eb51378",
   "metadata": {},
   "outputs": [
    {
     "data": {
      "text/plain": [
       "relevance\n",
       "RELEVANT           0.93\n",
       "PARTLY_RELEVANT    0.07\n",
       "Name: proportion, dtype: float64"
      ]
     },
     "execution_count": 65,
     "metadata": {},
     "output_type": "execute_result"
    }
   ],
   "source": [
    "df_eval.relevance.value_counts(normalize=True)"
   ]
  },
  {
   "cell_type": "code",
   "execution_count": 66,
   "id": "16ea2157-0343-4f16-bb6e-e0d002bd5131",
   "metadata": {},
   "outputs": [],
   "source": [
    "df_eval.to_csv('../data/rag-eval-gpt-4o.csv', index=False)"
   ]
  }
 ],
 "metadata": {
  "kernelspec": {
   "display_name": "Python 3 (ipykernel)",
   "language": "python",
   "name": "python3"
  },
  "language_info": {
   "codemirror_mode": {
    "name": "ipython",
    "version": 3
   },
   "file_extension": ".py",
   "mimetype": "text/x-python",
   "name": "python",
   "nbconvert_exporter": "python",
   "pygments_lexer": "ipython3",
   "version": "3.11.7"
  }
 },
 "nbformat": 4,
 "nbformat_minor": 5
}
